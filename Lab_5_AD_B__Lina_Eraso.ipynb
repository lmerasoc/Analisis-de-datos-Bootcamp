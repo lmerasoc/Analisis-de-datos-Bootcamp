{
  "nbformat": 4,
  "nbformat_minor": 0,
  "metadata": {
    "colab": {
      "provenance": [],
      "authorship_tag": "ABX9TyOmbf16+mSy47jgRXOFBaOt",
      "include_colab_link": true
    },
    "kernelspec": {
      "name": "python3",
      "display_name": "Python 3"
    },
    "language_info": {
      "name": "python"
    }
  },
  "cells": [
    {
      "cell_type": "markdown",
      "metadata": {
        "id": "view-in-github",
        "colab_type": "text"
      },
      "source": [
        "<a href=\"https://colab.research.google.com/github/lmerasoc/Analisis-de-datos-Bootcamp/blob/main/Lab_5_AD_B__Lina_Eraso.ipynb\" target=\"_parent\"><img src=\"https://colab.research.google.com/assets/colab-badge.svg\" alt=\"Open In Colab\"/></a>"
      ]
    },
    {
      "cell_type": "code",
      "execution_count": 1,
      "metadata": {
        "colab": {
          "base_uri": "https://localhost:8080/",
          "height": 73
        },
        "id": "HytMJZbXLnpZ",
        "outputId": "b9bef7f4-2f78-4bfe-f515-6b4fdcefbda4"
      },
      "outputs": [
        {
          "output_type": "display_data",
          "data": {
            "text/plain": [
              "<IPython.core.display.HTML object>"
            ],
            "text/html": [
              "\n",
              "     <input type=\"file\" id=\"files-7b765e99-7f0c-4895-8d1c-27e8cce085b0\" name=\"files[]\" multiple disabled\n",
              "        style=\"border:none\" />\n",
              "     <output id=\"result-7b765e99-7f0c-4895-8d1c-27e8cce085b0\">\n",
              "      Upload widget is only available when the cell has been executed in the\n",
              "      current browser session. Please rerun this cell to enable.\n",
              "      </output>\n",
              "      <script>// Copyright 2017 Google LLC\n",
              "//\n",
              "// Licensed under the Apache License, Version 2.0 (the \"License\");\n",
              "// you may not use this file except in compliance with the License.\n",
              "// You may obtain a copy of the License at\n",
              "//\n",
              "//      http://www.apache.org/licenses/LICENSE-2.0\n",
              "//\n",
              "// Unless required by applicable law or agreed to in writing, software\n",
              "// distributed under the License is distributed on an \"AS IS\" BASIS,\n",
              "// WITHOUT WARRANTIES OR CONDITIONS OF ANY KIND, either express or implied.\n",
              "// See the License for the specific language governing permissions and\n",
              "// limitations under the License.\n",
              "\n",
              "/**\n",
              " * @fileoverview Helpers for google.colab Python module.\n",
              " */\n",
              "(function(scope) {\n",
              "function span(text, styleAttributes = {}) {\n",
              "  const element = document.createElement('span');\n",
              "  element.textContent = text;\n",
              "  for (const key of Object.keys(styleAttributes)) {\n",
              "    element.style[key] = styleAttributes[key];\n",
              "  }\n",
              "  return element;\n",
              "}\n",
              "\n",
              "// Max number of bytes which will be uploaded at a time.\n",
              "const MAX_PAYLOAD_SIZE = 100 * 1024;\n",
              "\n",
              "function _uploadFiles(inputId, outputId) {\n",
              "  const steps = uploadFilesStep(inputId, outputId);\n",
              "  const outputElement = document.getElementById(outputId);\n",
              "  // Cache steps on the outputElement to make it available for the next call\n",
              "  // to uploadFilesContinue from Python.\n",
              "  outputElement.steps = steps;\n",
              "\n",
              "  return _uploadFilesContinue(outputId);\n",
              "}\n",
              "\n",
              "// This is roughly an async generator (not supported in the browser yet),\n",
              "// where there are multiple asynchronous steps and the Python side is going\n",
              "// to poll for completion of each step.\n",
              "// This uses a Promise to block the python side on completion of each step,\n",
              "// then passes the result of the previous step as the input to the next step.\n",
              "function _uploadFilesContinue(outputId) {\n",
              "  const outputElement = document.getElementById(outputId);\n",
              "  const steps = outputElement.steps;\n",
              "\n",
              "  const next = steps.next(outputElement.lastPromiseValue);\n",
              "  return Promise.resolve(next.value.promise).then((value) => {\n",
              "    // Cache the last promise value to make it available to the next\n",
              "    // step of the generator.\n",
              "    outputElement.lastPromiseValue = value;\n",
              "    return next.value.response;\n",
              "  });\n",
              "}\n",
              "\n",
              "/**\n",
              " * Generator function which is called between each async step of the upload\n",
              " * process.\n",
              " * @param {string} inputId Element ID of the input file picker element.\n",
              " * @param {string} outputId Element ID of the output display.\n",
              " * @return {!Iterable<!Object>} Iterable of next steps.\n",
              " */\n",
              "function* uploadFilesStep(inputId, outputId) {\n",
              "  const inputElement = document.getElementById(inputId);\n",
              "  inputElement.disabled = false;\n",
              "\n",
              "  const outputElement = document.getElementById(outputId);\n",
              "  outputElement.innerHTML = '';\n",
              "\n",
              "  const pickedPromise = new Promise((resolve) => {\n",
              "    inputElement.addEventListener('change', (e) => {\n",
              "      resolve(e.target.files);\n",
              "    });\n",
              "  });\n",
              "\n",
              "  const cancel = document.createElement('button');\n",
              "  inputElement.parentElement.appendChild(cancel);\n",
              "  cancel.textContent = 'Cancel upload';\n",
              "  const cancelPromise = new Promise((resolve) => {\n",
              "    cancel.onclick = () => {\n",
              "      resolve(null);\n",
              "    };\n",
              "  });\n",
              "\n",
              "  // Wait for the user to pick the files.\n",
              "  const files = yield {\n",
              "    promise: Promise.race([pickedPromise, cancelPromise]),\n",
              "    response: {\n",
              "      action: 'starting',\n",
              "    }\n",
              "  };\n",
              "\n",
              "  cancel.remove();\n",
              "\n",
              "  // Disable the input element since further picks are not allowed.\n",
              "  inputElement.disabled = true;\n",
              "\n",
              "  if (!files) {\n",
              "    return {\n",
              "      response: {\n",
              "        action: 'complete',\n",
              "      }\n",
              "    };\n",
              "  }\n",
              "\n",
              "  for (const file of files) {\n",
              "    const li = document.createElement('li');\n",
              "    li.append(span(file.name, {fontWeight: 'bold'}));\n",
              "    li.append(span(\n",
              "        `(${file.type || 'n/a'}) - ${file.size} bytes, ` +\n",
              "        `last modified: ${\n",
              "            file.lastModifiedDate ? file.lastModifiedDate.toLocaleDateString() :\n",
              "                                    'n/a'} - `));\n",
              "    const percent = span('0% done');\n",
              "    li.appendChild(percent);\n",
              "\n",
              "    outputElement.appendChild(li);\n",
              "\n",
              "    const fileDataPromise = new Promise((resolve) => {\n",
              "      const reader = new FileReader();\n",
              "      reader.onload = (e) => {\n",
              "        resolve(e.target.result);\n",
              "      };\n",
              "      reader.readAsArrayBuffer(file);\n",
              "    });\n",
              "    // Wait for the data to be ready.\n",
              "    let fileData = yield {\n",
              "      promise: fileDataPromise,\n",
              "      response: {\n",
              "        action: 'continue',\n",
              "      }\n",
              "    };\n",
              "\n",
              "    // Use a chunked sending to avoid message size limits. See b/62115660.\n",
              "    let position = 0;\n",
              "    do {\n",
              "      const length = Math.min(fileData.byteLength - position, MAX_PAYLOAD_SIZE);\n",
              "      const chunk = new Uint8Array(fileData, position, length);\n",
              "      position += length;\n",
              "\n",
              "      const base64 = btoa(String.fromCharCode.apply(null, chunk));\n",
              "      yield {\n",
              "        response: {\n",
              "          action: 'append',\n",
              "          file: file.name,\n",
              "          data: base64,\n",
              "        },\n",
              "      };\n",
              "\n",
              "      let percentDone = fileData.byteLength === 0 ?\n",
              "          100 :\n",
              "          Math.round((position / fileData.byteLength) * 100);\n",
              "      percent.textContent = `${percentDone}% done`;\n",
              "\n",
              "    } while (position < fileData.byteLength);\n",
              "  }\n",
              "\n",
              "  // All done.\n",
              "  yield {\n",
              "    response: {\n",
              "      action: 'complete',\n",
              "    }\n",
              "  };\n",
              "}\n",
              "\n",
              "scope.google = scope.google || {};\n",
              "scope.google.colab = scope.google.colab || {};\n",
              "scope.google.colab._files = {\n",
              "  _uploadFiles,\n",
              "  _uploadFilesContinue,\n",
              "};\n",
              "})(self);\n",
              "</script> "
            ]
          },
          "metadata": {}
        },
        {
          "output_type": "stream",
          "name": "stdout",
          "text": [
            "Saving CSV Laboratorio 5 AD-B.xlsx to CSV Laboratorio 5 AD-B.xlsx\n"
          ]
        }
      ],
      "source": [
        "import pandas as pd;\n",
        "import numpy as np;\n",
        "from google.colab import files\n",
        "uploaded = files.upload()"
      ]
    },
    {
      "cell_type": "code",
      "source": [
        "df = pd.read_excel('CSV Laboratorio 5 AD-B.xlsx')\n",
        "print(df.count())\n",
        "print(df.head(20))"
      ],
      "metadata": {
        "colab": {
          "base_uri": "https://localhost:8080/"
        },
        "id": "8UmXnNGxMHFN",
        "outputId": "29bc5f94-0b79-42ba-b80d-015075d1c854"
      },
      "execution_count": 3,
      "outputs": [
        {
          "output_type": "stream",
          "name": "stdout",
          "text": [
            "ID          60\n",
            "Name        60\n",
            "Category    50\n",
            "City        45\n",
            "Value       58\n",
            "Date        60\n",
            "dtype: int64\n",
            "    ID     Name    Category         City  Value                 Date\n",
            "0    1  Charlie       Cat C      Chicago   46.0            4/13/2023\n",
            "1    2     Jane       Cat C      Houston   53.0           12/15/2023\n",
            "2    3     Jane  category a      Chicago   68.0            9/28/2023\n",
            "3    4     John         NaN     New York   97.0            4/17/2023\n",
            "4    5     Jane       Cat C      Houston   71.0            3/13/2023\n",
            "5    6      Eve  category a  Los Angeles   61.0  2023-08-07 00:00:00\n",
            "6    7     Jane  Category A      Chicago   48.0            1/21/2023\n",
            "7    8      Bob  CATEGORY B     New York   65.0            4/13/2023\n",
            "8    9      Bob  CATEGORY B  Los Angeles    NaN  2023-02-05 00:00:00\n",
            "9   10     Dave  CATEGORY B  Los Angeles   11.0  2023-03-08 00:00:00\n",
            "10  11      Bob       Cat C          NaN   96.0           11/27/2023\n",
            "11  12     Dave  Category A      Houston   10.0            3/29/2023\n",
            "12  13      Bob       Cat C      Chicago   11.0  2023-10-04 00:00:00\n",
            "13  14      Eve         NaN     New York   99.0           12/26/2023\n",
            "14  15    Grace       Cat C          NaN   41.0  2023-01-06 00:00:00\n",
            "15  16     Dave  Category A      Houston   64.0  2023-11-05 00:00:00\n",
            "16  17    Alice  Category A          NaN   26.0            5/30/2023\n",
            "17  18  Charlie         NaN      Houston   33.0  2023-05-11 00:00:00\n",
            "18  19     John  Category A      Houston   79.0            9/15/2023\n",
            "19  20      Bob  Category A      Chicago   25.0  2023-10-12 00:00:00\n"
          ]
        }
      ]
    },
    {
      "cell_type": "code",
      "source": [
        "#Valores nulos\n",
        "print(df.isnull().sum())"
      ],
      "metadata": {
        "colab": {
          "base_uri": "https://localhost:8080/"
        },
        "id": "Palyr--NOfWW",
        "outputId": "46aaffce-4980-40f0-9111-98283b4453e9"
      },
      "execution_count": 4,
      "outputs": [
        {
          "output_type": "stream",
          "name": "stdout",
          "text": [
            "ID           0\n",
            "Name         0\n",
            "Category    10\n",
            "City        15\n",
            "Value        2\n",
            "Date         0\n",
            "dtype: int64\n"
          ]
        }
      ]
    },
    {
      "cell_type": "code",
      "source": [
        "#Duplicated\n",
        "print(\"Datos duplicados:\",df.duplicated().sum())\n",
        "#Eliminar duplicados\n",
        "df1 = df.drop_duplicates()\n",
        "print(\"Datos duplicados:\",df1.duplicated().sum())\n",
        "print(df1.count())\n",
        "print(df1.isnull().sum())\n"
      ],
      "metadata": {
        "colab": {
          "base_uri": "https://localhost:8080/"
        },
        "id": "fk91oeHVOt6o",
        "outputId": "9cf4ac77-c206-406b-abf6-27e4e0ac4327"
      },
      "execution_count": 12,
      "outputs": [
        {
          "output_type": "stream",
          "name": "stdout",
          "text": [
            "Datos duplicados: 10\n",
            "Datos duplicados: 0\n",
            "ID          50\n",
            "Name        50\n",
            "Category    42\n",
            "City        38\n",
            "Value       48\n",
            "Date        50\n",
            "dtype: int64\n",
            "ID           0\n",
            "Name         0\n",
            "Category     8\n",
            "City        12\n",
            "Value        2\n",
            "Date         0\n",
            "dtype: int64\n"
          ]
        }
      ]
    },
    {
      "cell_type": "code",
      "source": [
        "#Llenar datos nulos\n",
        "df2 = df1.copy()\n",
        "df2['Value'] = df2['Value'].fillna(df2['Value'].mean())\n",
        "print(df2.isnull().sum())\n",
        "print(df2.count())"
      ],
      "metadata": {
        "colab": {
          "base_uri": "https://localhost:8080/"
        },
        "id": "WgVzcZh3Pduj",
        "outputId": "f821461c-ab2e-442d-ea3a-2b6e6dbeef45"
      },
      "execution_count": 13,
      "outputs": [
        {
          "output_type": "stream",
          "name": "stdout",
          "text": [
            "ID           0\n",
            "Name         0\n",
            "Category     8\n",
            "City        12\n",
            "Value        0\n",
            "Date         0\n",
            "dtype: int64\n",
            "ID          50\n",
            "Name        50\n",
            "Category    42\n",
            "City        38\n",
            "Value       50\n",
            "Date        50\n",
            "dtype: int64\n"
          ]
        }
      ]
    },
    {
      "cell_type": "code",
      "source": [
        "#Eliminar datos nulos\n",
        "df3 = df2.dropna()\n",
        "print(df3.isnull().sum())\n",
        "print(df3.count())\n",
        "print(df3)"
      ],
      "metadata": {
        "colab": {
          "base_uri": "https://localhost:8080/"
        },
        "id": "3Tc1yZh4QXAU",
        "outputId": "9e597c19-66d3-4ada-92d7-bbb4e6ab7afe"
      },
      "execution_count": 11,
      "outputs": [
        {
          "output_type": "stream",
          "name": "stdout",
          "text": [
            "ID          0\n",
            "Name        0\n",
            "Category    0\n",
            "City        0\n",
            "Value       0\n",
            "Date        0\n",
            "dtype: int64\n",
            "ID          33\n",
            "Name        33\n",
            "Category    33\n",
            "City        33\n",
            "Value       33\n",
            "Date        33\n",
            "dtype: int64\n",
            "    ID     Name    Category         City      Value                 Date\n",
            "0    1  Charlie       Cat C      Chicago  46.000000            4/13/2023\n",
            "1    2     Jane       Cat C      Houston  53.000000           12/15/2023\n",
            "2    3     Jane  category a      Chicago  68.000000            9/28/2023\n",
            "4    5     Jane       Cat C      Houston  71.000000            3/13/2023\n",
            "5    6      Eve  category a  Los Angeles  61.000000  2023-08-07 00:00:00\n",
            "6    7     Jane  Category A      Chicago  48.000000            1/21/2023\n",
            "7    8      Bob  CATEGORY B     New York  65.000000            4/13/2023\n",
            "8    9      Bob  CATEGORY B  Los Angeles  51.520833  2023-02-05 00:00:00\n",
            "9   10     Dave  CATEGORY B  Los Angeles  11.000000  2023-03-08 00:00:00\n",
            "11  12     Dave  Category A      Houston  10.000000            3/29/2023\n",
            "12  13      Bob       Cat C      Chicago  11.000000  2023-10-04 00:00:00\n",
            "15  16     Dave  Category A      Houston  64.000000  2023-11-05 00:00:00\n",
            "18  19     John  Category A      Houston  79.000000            9/15/2023\n",
            "19  20      Bob  Category A      Chicago  25.000000  2023-10-12 00:00:00\n",
            "20  21     Jane  CATEGORY B      Houston  68.000000           10/21/2023\n",
            "22  23      Bob  Category B      Houston  68.000000  2023-04-10 00:00:00\n",
            "23  24     Jane  Category B      Chicago  99.000000  2023-10-06 00:00:00\n",
            "24  25  Charlie  Category A      Chicago  28.000000  2023-10-11 00:00:00\n",
            "26  27  Charlie  Category B  Los Angeles  42.000000  2023-10-09 00:00:00\n",
            "27  28     Jane  Category A  Los Angeles  48.000000            8/24/2023\n",
            "28  29      Bob  Category B      Houston  10.000000  2023-11-12 00:00:00\n",
            "29  30  Charlie       Cat C     New York  66.000000            2/18/2023\n",
            "30  31      Eve  category a      Houston  32.000000            2/28/2023\n",
            "36  37     Jane  Category A      Chicago  46.000000            2/20/2023\n",
            "37  38  Charlie  CATEGORY B  Los Angeles  18.000000           12/30/2023\n",
            "39  40  Charlie  Category A     New York  12.000000  2023-01-09 00:00:00\n",
            "42  43     Dave       Cat-C     New York  81.000000  2023-03-11 00:00:00\n",
            "43  44    Grace       Cat C      Chicago  93.000000            5/15/2023\n",
            "44  45  Charlie  Category B     New York  98.000000            1/21/2023\n",
            "46  47      Bob       Cat-C      Houston  91.000000            6/16/2023\n",
            "47  48     John  Category B     New York  44.000000  2023-01-10 00:00:00\n",
            "48  49  Charlie  Category B      Chicago  50.000000            3/30/2023\n",
            "49  50    Grace  Category A      Chicago  77.000000  2023-12-11 00:00:00\n"
          ]
        }
      ]
    },
    {
      "cell_type": "code",
      "source": [
        "#Normalización de formatos en columnas (e.g., convertir texto a minúsculas,\n",
        "#estandarizar fechas al formato AAAA/MM/DD con pd.to_datetime).\n",
        "df3.loc[:,'City'] = df3['City'].str.capitalize()\n",
        "df3.loc[:,'Category'] = df3['Category'].str.capitalize()\n",
        "df3.loc[:,'Name'] = df3['Name'].str.capitalize()\n",
        "df3.loc[:,'Date'] = pd.to_datetime(df3['Date']).dt.strftime('%Y/%m/%d')\n",
        "df4=df3\n",
        "print(df3)"
      ],
      "metadata": {
        "colab": {
          "base_uri": "https://localhost:8080/"
        },
        "id": "Ya-lbJBQRUmD",
        "outputId": "058bca37-997c-4596-9e7f-402baf4d3585"
      },
      "execution_count": 26,
      "outputs": [
        {
          "output_type": "stream",
          "name": "stdout",
          "text": [
            "    ID     Name    Category         City      Value        Date\n",
            "0    1  Charlie       Cat c      Chicago  46.000000  2023/04/13\n",
            "1    2     Jane       Cat c      Houston  53.000000  2023/12/15\n",
            "2    3     Jane  Category a      Chicago  68.000000  2023/09/28\n",
            "4    5     Jane       Cat c      Houston  71.000000  2023/03/13\n",
            "5    6      Eve  Category a  Los angeles  61.000000  2023/08/07\n",
            "6    7     Jane  Category a      Chicago  48.000000  2023/01/21\n",
            "7    8      Bob  Category b     New york  65.000000  2023/04/13\n",
            "8    9      Bob  Category b  Los angeles  51.520833  2023/02/05\n",
            "9   10     Dave  Category b  Los angeles  11.000000  2023/03/08\n",
            "11  12     Dave  Category a      Houston  10.000000  2023/03/29\n",
            "12  13      Bob       Cat c      Chicago  11.000000  2023/10/04\n",
            "15  16     Dave  Category a      Houston  64.000000  2023/11/05\n",
            "18  19     John  Category a      Houston  79.000000  2023/09/15\n",
            "19  20      Bob  Category a      Chicago  25.000000  2023/10/12\n",
            "20  21     Jane  Category b      Houston  68.000000  2023/10/21\n",
            "22  23      Bob  Category b      Houston  68.000000  2023/04/10\n",
            "23  24     Jane  Category b      Chicago  99.000000  2023/10/06\n",
            "24  25  Charlie  Category a      Chicago  28.000000  2023/10/11\n",
            "26  27  Charlie  Category b  Los angeles  42.000000  2023/10/09\n",
            "27  28     Jane  Category a  Los angeles  48.000000  2023/08/24\n",
            "28  29      Bob  Category b      Houston  10.000000  2023/11/12\n",
            "29  30  Charlie       Cat c     New york  66.000000  2023/02/18\n",
            "30  31      Eve  Category a      Houston  32.000000  2023/02/28\n",
            "36  37     Jane  Category a      Chicago  46.000000  2023/02/20\n",
            "37  38  Charlie  Category b  Los angeles  18.000000  2023/12/30\n",
            "39  40  Charlie  Category a     New york  12.000000  2023/01/09\n",
            "42  43     Dave       Cat-c     New york  81.000000  2023/03/11\n",
            "43  44    Grace       Cat c      Chicago  93.000000  2023/05/15\n",
            "44  45  Charlie  Category b     New york  98.000000  2023/01/21\n",
            "46  47      Bob       Cat-c      Houston  91.000000  2023/06/16\n",
            "47  48     John  Category b     New york  44.000000  2023/01/10\n",
            "48  49  Charlie  Category b      Chicago  50.000000  2023/03/30\n",
            "49  50    Grace  Category a      Chicago  77.000000  2023/12/11\n"
          ]
        }
      ]
    },
    {
      "cell_type": "code",
      "source": [
        "# Estandarizar formato de “Category”.\n",
        "df4 = df3.copy()\n",
        "df4.loc[:, 'Category'] = df4['Category'].str.replace('Cat c', 'Category c')\n",
        "df4.loc[:, 'Category'] = df4['Category'].str.replace('Cat-c', 'Category c')\n",
        "print(df4)\n",
        "print(df4.count())"
      ],
      "metadata": {
        "colab": {
          "base_uri": "https://localhost:8080/"
        },
        "id": "lB58CzarR7ff",
        "outputId": "7f7e49d2-6fe7-4033-dae7-ab8afa99978c"
      },
      "execution_count": 27,
      "outputs": [
        {
          "output_type": "stream",
          "name": "stdout",
          "text": [
            "    ID     Name    Category         City      Value        Date\n",
            "0    1  Charlie  Category c      Chicago  46.000000  2023/04/13\n",
            "1    2     Jane  Category c      Houston  53.000000  2023/12/15\n",
            "2    3     Jane  Category a      Chicago  68.000000  2023/09/28\n",
            "4    5     Jane  Category c      Houston  71.000000  2023/03/13\n",
            "5    6      Eve  Category a  Los angeles  61.000000  2023/08/07\n",
            "6    7     Jane  Category a      Chicago  48.000000  2023/01/21\n",
            "7    8      Bob  Category b     New york  65.000000  2023/04/13\n",
            "8    9      Bob  Category b  Los angeles  51.520833  2023/02/05\n",
            "9   10     Dave  Category b  Los angeles  11.000000  2023/03/08\n",
            "11  12     Dave  Category a      Houston  10.000000  2023/03/29\n",
            "12  13      Bob  Category c      Chicago  11.000000  2023/10/04\n",
            "15  16     Dave  Category a      Houston  64.000000  2023/11/05\n",
            "18  19     John  Category a      Houston  79.000000  2023/09/15\n",
            "19  20      Bob  Category a      Chicago  25.000000  2023/10/12\n",
            "20  21     Jane  Category b      Houston  68.000000  2023/10/21\n",
            "22  23      Bob  Category b      Houston  68.000000  2023/04/10\n",
            "23  24     Jane  Category b      Chicago  99.000000  2023/10/06\n",
            "24  25  Charlie  Category a      Chicago  28.000000  2023/10/11\n",
            "26  27  Charlie  Category b  Los angeles  42.000000  2023/10/09\n",
            "27  28     Jane  Category a  Los angeles  48.000000  2023/08/24\n",
            "28  29      Bob  Category b      Houston  10.000000  2023/11/12\n",
            "29  30  Charlie  Category c     New york  66.000000  2023/02/18\n",
            "30  31      Eve  Category a      Houston  32.000000  2023/02/28\n",
            "36  37     Jane  Category a      Chicago  46.000000  2023/02/20\n",
            "37  38  Charlie  Category b  Los angeles  18.000000  2023/12/30\n",
            "39  40  Charlie  Category a     New york  12.000000  2023/01/09\n",
            "42  43     Dave  Category c     New york  81.000000  2023/03/11\n",
            "43  44    Grace  Category c      Chicago  93.000000  2023/05/15\n",
            "44  45  Charlie  Category b     New york  98.000000  2023/01/21\n",
            "46  47      Bob  Category c      Houston  91.000000  2023/06/16\n",
            "47  48     John  Category b     New york  44.000000  2023/01/10\n",
            "48  49  Charlie  Category b      Chicago  50.000000  2023/03/30\n",
            "49  50    Grace  Category a      Chicago  77.000000  2023/12/11\n",
            "ID          33\n",
            "Name        33\n",
            "Category    33\n",
            "City        33\n",
            "Value       33\n",
            "Date        33\n",
            "dtype: int64\n"
          ]
        }
      ]
    },
    {
      "cell_type": "code",
      "source": [
        "print(df4.dtypes)\n",
        "print(df4.info())"
      ],
      "metadata": {
        "colab": {
          "base_uri": "https://localhost:8080/"
        },
        "id": "Gzt-cfeST-H0",
        "outputId": "6fa506b9-2091-4306-bc81-b18c564ea80e"
      },
      "execution_count": 29,
      "outputs": [
        {
          "output_type": "stream",
          "name": "stdout",
          "text": [
            "ID            int64\n",
            "Name         object\n",
            "Category     object\n",
            "City         object\n",
            "Value       float64\n",
            "Date         object\n",
            "dtype: object\n",
            "<class 'pandas.core.frame.DataFrame'>\n",
            "Index: 33 entries, 0 to 49\n",
            "Data columns (total 6 columns):\n",
            " #   Column    Non-Null Count  Dtype  \n",
            "---  ------    --------------  -----  \n",
            " 0   ID        33 non-null     int64  \n",
            " 1   Name      33 non-null     object \n",
            " 2   Category  33 non-null     object \n",
            " 3   City      33 non-null     object \n",
            " 4   Value     33 non-null     float64\n",
            " 5   Date      33 non-null     object \n",
            "dtypes: float64(1), int64(1), object(4)\n",
            "memory usage: 1.8+ KB\n",
            "None\n"
          ]
        }
      ]
    },
    {
      "cell_type": "code",
      "source": [
        "df4['ID'] = range(1, len(df4) + 1)\n",
        "print(df4)"
      ],
      "metadata": {
        "colab": {
          "base_uri": "https://localhost:8080/"
        },
        "id": "UqUarL7vXjeL",
        "outputId": "fdb1be88-ce75-4c51-913e-4c010191acd6"
      },
      "execution_count": 33,
      "outputs": [
        {
          "output_type": "stream",
          "name": "stdout",
          "text": [
            "    ID     Name    Category         City      Value        Date\n",
            "0    1  Charlie  Category c      Chicago  46.000000  2023/04/13\n",
            "1    2     Jane  Category c      Houston  53.000000  2023/12/15\n",
            "2    3     Jane  Category a      Chicago  68.000000  2023/09/28\n",
            "4    4     Jane  Category c      Houston  71.000000  2023/03/13\n",
            "5    5      Eve  Category a  Los angeles  61.000000  2023/08/07\n",
            "6    6     Jane  Category a      Chicago  48.000000  2023/01/21\n",
            "7    7      Bob  Category b     New york  65.000000  2023/04/13\n",
            "8    8      Bob  Category b  Los angeles  51.520833  2023/02/05\n",
            "9    9     Dave  Category b  Los angeles  11.000000  2023/03/08\n",
            "11  10     Dave  Category a      Houston  10.000000  2023/03/29\n",
            "12  11      Bob  Category c      Chicago  11.000000  2023/10/04\n",
            "15  12     Dave  Category a      Houston  64.000000  2023/11/05\n",
            "18  13     John  Category a      Houston  79.000000  2023/09/15\n",
            "19  14      Bob  Category a      Chicago  25.000000  2023/10/12\n",
            "20  15     Jane  Category b      Houston  68.000000  2023/10/21\n",
            "22  16      Bob  Category b      Houston  68.000000  2023/04/10\n",
            "23  17     Jane  Category b      Chicago  99.000000  2023/10/06\n",
            "24  18  Charlie  Category a      Chicago  28.000000  2023/10/11\n",
            "26  19  Charlie  Category b  Los angeles  42.000000  2023/10/09\n",
            "27  20     Jane  Category a  Los angeles  48.000000  2023/08/24\n",
            "28  21      Bob  Category b      Houston  10.000000  2023/11/12\n",
            "29  22  Charlie  Category c     New york  66.000000  2023/02/18\n",
            "30  23      Eve  Category a      Houston  32.000000  2023/02/28\n",
            "36  24     Jane  Category a      Chicago  46.000000  2023/02/20\n",
            "37  25  Charlie  Category b  Los angeles  18.000000  2023/12/30\n",
            "39  26  Charlie  Category a     New york  12.000000  2023/01/09\n",
            "42  27     Dave  Category c     New york  81.000000  2023/03/11\n",
            "43  28    Grace  Category c      Chicago  93.000000  2023/05/15\n",
            "44  29  Charlie  Category b     New york  98.000000  2023/01/21\n",
            "46  30      Bob  Category c      Houston  91.000000  2023/06/16\n",
            "47  31     John  Category b     New york  44.000000  2023/01/10\n",
            "48  32  Charlie  Category b      Chicago  50.000000  2023/03/30\n",
            "49  33    Grace  Category a      Chicago  77.000000  2023/12/11\n"
          ]
        }
      ]
    },
    {
      "cell_type": "code",
      "source": [
        "#exportar\n",
        "df4.to_excel('CSV Laboratorio 5 AD-B_limpio.xlsx', index=False)\n",
        "print(df4)\n",
        "from google.colab import files\n",
        "files.download('CSV Laboratorio 5 AD-B_limpio.xlsx')"
      ],
      "metadata": {
        "colab": {
          "base_uri": "https://localhost:8080/",
          "height": 607
        },
        "id": "sEzMU18xU770",
        "outputId": "656b2d50-530a-4e03-f455-a9a61b836181"
      },
      "execution_count": 34,
      "outputs": [
        {
          "output_type": "stream",
          "name": "stdout",
          "text": [
            "    ID     Name    Category         City      Value        Date\n",
            "0    1  Charlie  Category c      Chicago  46.000000  2023/04/13\n",
            "1    2     Jane  Category c      Houston  53.000000  2023/12/15\n",
            "2    3     Jane  Category a      Chicago  68.000000  2023/09/28\n",
            "4    4     Jane  Category c      Houston  71.000000  2023/03/13\n",
            "5    5      Eve  Category a  Los angeles  61.000000  2023/08/07\n",
            "6    6     Jane  Category a      Chicago  48.000000  2023/01/21\n",
            "7    7      Bob  Category b     New york  65.000000  2023/04/13\n",
            "8    8      Bob  Category b  Los angeles  51.520833  2023/02/05\n",
            "9    9     Dave  Category b  Los angeles  11.000000  2023/03/08\n",
            "11  10     Dave  Category a      Houston  10.000000  2023/03/29\n",
            "12  11      Bob  Category c      Chicago  11.000000  2023/10/04\n",
            "15  12     Dave  Category a      Houston  64.000000  2023/11/05\n",
            "18  13     John  Category a      Houston  79.000000  2023/09/15\n",
            "19  14      Bob  Category a      Chicago  25.000000  2023/10/12\n",
            "20  15     Jane  Category b      Houston  68.000000  2023/10/21\n",
            "22  16      Bob  Category b      Houston  68.000000  2023/04/10\n",
            "23  17     Jane  Category b      Chicago  99.000000  2023/10/06\n",
            "24  18  Charlie  Category a      Chicago  28.000000  2023/10/11\n",
            "26  19  Charlie  Category b  Los angeles  42.000000  2023/10/09\n",
            "27  20     Jane  Category a  Los angeles  48.000000  2023/08/24\n",
            "28  21      Bob  Category b      Houston  10.000000  2023/11/12\n",
            "29  22  Charlie  Category c     New york  66.000000  2023/02/18\n",
            "30  23      Eve  Category a      Houston  32.000000  2023/02/28\n",
            "36  24     Jane  Category a      Chicago  46.000000  2023/02/20\n",
            "37  25  Charlie  Category b  Los angeles  18.000000  2023/12/30\n",
            "39  26  Charlie  Category a     New york  12.000000  2023/01/09\n",
            "42  27     Dave  Category c     New york  81.000000  2023/03/11\n",
            "43  28    Grace  Category c      Chicago  93.000000  2023/05/15\n",
            "44  29  Charlie  Category b     New york  98.000000  2023/01/21\n",
            "46  30      Bob  Category c      Houston  91.000000  2023/06/16\n",
            "47  31     John  Category b     New york  44.000000  2023/01/10\n",
            "48  32  Charlie  Category b      Chicago  50.000000  2023/03/30\n",
            "49  33    Grace  Category a      Chicago  77.000000  2023/12/11\n"
          ]
        },
        {
          "output_type": "display_data",
          "data": {
            "text/plain": [
              "<IPython.core.display.Javascript object>"
            ],
            "application/javascript": [
              "\n",
              "    async function download(id, filename, size) {\n",
              "      if (!google.colab.kernel.accessAllowed) {\n",
              "        return;\n",
              "      }\n",
              "      const div = document.createElement('div');\n",
              "      const label = document.createElement('label');\n",
              "      label.textContent = `Downloading \"${filename}\": `;\n",
              "      div.appendChild(label);\n",
              "      const progress = document.createElement('progress');\n",
              "      progress.max = size;\n",
              "      div.appendChild(progress);\n",
              "      document.body.appendChild(div);\n",
              "\n",
              "      const buffers = [];\n",
              "      let downloaded = 0;\n",
              "\n",
              "      const channel = await google.colab.kernel.comms.open(id);\n",
              "      // Send a message to notify the kernel that we're ready.\n",
              "      channel.send({})\n",
              "\n",
              "      for await (const message of channel.messages) {\n",
              "        // Send a message to notify the kernel that we're ready.\n",
              "        channel.send({})\n",
              "        if (message.buffers) {\n",
              "          for (const buffer of message.buffers) {\n",
              "            buffers.push(buffer);\n",
              "            downloaded += buffer.byteLength;\n",
              "            progress.value = downloaded;\n",
              "          }\n",
              "        }\n",
              "      }\n",
              "      const blob = new Blob(buffers, {type: 'application/binary'});\n",
              "      const a = document.createElement('a');\n",
              "      a.href = window.URL.createObjectURL(blob);\n",
              "      a.download = filename;\n",
              "      div.appendChild(a);\n",
              "      a.click();\n",
              "      div.remove();\n",
              "    }\n",
              "  "
            ]
          },
          "metadata": {}
        },
        {
          "output_type": "display_data",
          "data": {
            "text/plain": [
              "<IPython.core.display.Javascript object>"
            ],
            "application/javascript": [
              "download(\"download_c5499c04-8bf2-41db-9ad6-fd961823e785\", \"CSV Laboratorio 5 AD-B_limpio.xlsx\", 6173)"
            ]
          },
          "metadata": {}
        }
      ]
    }
  ]
}