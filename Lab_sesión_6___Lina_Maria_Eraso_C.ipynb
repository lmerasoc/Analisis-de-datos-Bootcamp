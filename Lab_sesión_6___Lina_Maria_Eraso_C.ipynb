{
  "nbformat": 4,
  "nbformat_minor": 0,
  "metadata": {
    "colab": {
      "provenance": [],
      "include_colab_link": true
    },
    "kernelspec": {
      "name": "python3",
      "display_name": "Python 3"
    },
    "language_info": {
      "name": "python"
    }
  },
  "cells": [
    {
      "cell_type": "markdown",
      "metadata": {
        "id": "view-in-github",
        "colab_type": "text"
      },
      "source": [
        "<a href=\"https://colab.research.google.com/github/lmerasoc/Analisis-de-datos-Bootcamp/blob/main/Lab_sesi%C3%B3n_6___Lina_Maria_Eraso_C.ipynb\" target=\"_parent\"><img src=\"https://colab.research.google.com/assets/colab-badge.svg\" alt=\"Open In Colab\"/></a>"
      ]
    },
    {
      "cell_type": "markdown",
      "source": [
        "# **Laboratorio 6**"
      ],
      "metadata": {
        "id": "zpxKZsMFP7dH"
      }
    },
    {
      "cell_type": "markdown",
      "source": [
        "## **Parte 2**\n",
        "\n",
        "En el segundo ejercicio de práctica debes aplicar los pasos del algoritmo describiendo, luego realizar el código en Python y pegarlo en el Word, debes anexar la captura de pantalla del resultado"
      ],
      "metadata": {
        "id": "rtcJh3V3QBvk"
      }
    },
    {
      "cell_type": "markdown",
      "source": [
        "**1.\tAlgoritmo para Preparar un Té:** Este algoritmo describe los pasos para preparar un té y lo implementamos en Python.\n",
        "\n",
        "-\tPasos:\n",
        "1.\tCalentar el agua.\n",
        "2.\tColocar la bolsa de té en una taza.\n",
        "3.\tVerter el agua caliente en la taza.\n",
        "4.\tDejar reposar unos minutos.\n",
        "5.\tRetirar la bolsa de té.\n",
        "6.\tAgregar azúcar o miel.\n",
        "7.\tRevolver y servir.\n",
        "\n"
      ],
      "metadata": {
        "id": "7FH0WAUjQLK2"
      }
    },
    {
      "cell_type": "code",
      "execution_count": 3,
      "metadata": {
        "id": "kz1ukGPsKsn1",
        "colab": {
          "base_uri": "https://localhost:8080/"
        },
        "outputId": "c6495a10-58c4-4f2d-ba2d-b62bfaa57072"
      },
      "outputs": [
        {
          "output_type": "stream",
          "name": "stdout",
          "text": [
            "Coloca la bolsa de té en la taza\n",
            "Vierte el agua caliente en la taza\n",
            "Espera 3-5 minutos\n",
            "Retira la bolsa de té\n",
            "Agregar azúcar o miel \n",
            "Revolver y servir\n"
          ]
        }
      ],
      "source": [
        "# Algoritmo en código\n",
        "agua_caliente = True\n",
        "bolsa_te = True\n",
        "if agua_caliente and bolsa_te:\n",
        " print(\"Coloca la bolsa de té en la taza\")\n",
        " print(\"Vierte el agua caliente en la taza\")\n",
        " print(\"Espera 3-5 minutos\")\n",
        " print(\"Retira la bolsa de té\")\n",
        " print(\"Agregar azúcar o miel \")\n",
        " print(\"Revolver y servir\")\n",
        "else:\n",
        " print(\"No puedes preparar el té porque falta agua caliente o bolsa de té.\")"
      ]
    },
    {
      "cell_type": "markdown",
      "source": [
        "**2.\tCálculo del Promedio de Notas:** Utilizar variables y tipos de datos para almacenar las notas de un estudiante, y un operador aritmético para calcular el promedio.\n",
        "pasos:\n",
        "1. Solicitar al usuario tres notas.\n",
        "2. Convertirlas a tipo numérico.\n",
        "3. Sumar las tres notas.\n",
        "4. Dividir el total entre 3.\n",
        "5. Mostrar el promedio.\n"
      ],
      "metadata": {
        "id": "SmovPtq2Q-b3"
      }
    },
    {
      "cell_type": "code",
      "source": [
        "n1 = int(input())\n",
        "n2= int(input())\n",
        "n3= int(input())\n",
        "promedio=(n1+n2+n3)/3\n",
        "print(promedio)"
      ],
      "metadata": {
        "id": "M7ITXBQLRfgS",
        "colab": {
          "base_uri": "https://localhost:8080/"
        },
        "outputId": "c9bbe579-d6d1-4183-9372-84dc31182c2f"
      },
      "execution_count": 4,
      "outputs": [
        {
          "output_type": "stream",
          "name": "stdout",
          "text": [
            "5\n",
            "4\n",
            "1\n",
            "3.3333333333333335\n"
          ]
        }
      ]
    },
    {
      "cell_type": "markdown",
      "source": [
        "**3.\tVerificar si un Número es Par o Impar:** Utiliza condicionales para verificar si un número es par o impar, y operadores para realizar el cálculo.\n",
        "-\tPasos:\n",
        "1.\tPedir un número al usuario.\n",
        "2.\tUsar el operador % para ver si el número dividido entre 2 da resto 0.\n",
        "3.\tSi el resto es 0, es par; si no, es impar.\n",
        "4.\tMostrar el resultado."
      ],
      "metadata": {
        "id": "_pjkhZpERDio"
      }
    },
    {
      "cell_type": "code",
      "source": [
        "x = int(input())\n",
        "y = x%2\n",
        "\n",
        "if y == 0:\n",
        "  print(\"El número es par\")\n",
        "else:\n",
        "  print(\"El número es impar\")\n"
      ],
      "metadata": {
        "id": "pQdC0ceHRgHs",
        "colab": {
          "base_uri": "https://localhost:8080/"
        },
        "outputId": "cb3547ae-3215-4859-9566-b17efb9f438e"
      },
      "execution_count": 5,
      "outputs": [
        {
          "output_type": "stream",
          "name": "stdout",
          "text": [
            "5\n",
            "El número es impar\n"
          ]
        }
      ]
    },
    {
      "cell_type": "markdown",
      "source": [
        "**4.\tBucle for para Imprimir Números del 1 al 5:** Usar un bucle for para mostrar los números del 1 al 5 y combinar los operadores aritméticos para mostrar si son pares o impares.\n",
        "-\tPasos:\n",
        "1. Usar un bucle for del 1 al 5.\n",
        "2. En cada iteración, mostrar el número.\n",
        "3. Verificar si es par o impar.\n",
        "4. Mostrar el resultado junto al número.\n"
      ],
      "metadata": {
        "id": "k6uA-1Z-RGwc"
      }
    },
    {
      "cell_type": "code",
      "source": [
        "n=0\n",
        "for n in range(1,6):\n",
        "  print(n)\n",
        "  if n%2==0:\n",
        "    print(\"El número es par\")\n",
        "  else:\n",
        "    print(\"El número es impar\")\n"
      ],
      "metadata": {
        "id": "O-Qk1zTpRgfE",
        "colab": {
          "base_uri": "https://localhost:8080/"
        },
        "outputId": "206b626a-43a2-41c3-ed2a-8964efe7c3f7"
      },
      "execution_count": 7,
      "outputs": [
        {
          "output_type": "stream",
          "name": "stdout",
          "text": [
            "1\n",
            "El número es impar\n",
            "2\n",
            "El número es par\n",
            "3\n",
            "El número es impar\n",
            "4\n",
            "El número es par\n",
            "5\n",
            "El número es impar\n"
          ]
        }
      ]
    },
    {
      "cell_type": "markdown",
      "source": [
        "**5.\tConvertir Grados Celsius a Fahrenheit**: Usar una función para convertir grados Celsius a Fahrenheit. La fórmula para la conversión es Fahrenheit = (Celsius * 9/5) + 32.\n",
        "\n",
        "Pasos\n",
        "1.\tCrear una función que reciba los grados Celsius como parámetro.\n",
        "2.\tAplicar la fórmula: (C * 9/5) + 32.\n",
        "3.\tRetornar el resultado.\n",
        "4.\tMostrar el resultado al usuario.\n"
      ],
      "metadata": {
        "id": "Nz2PBiLeRLgm"
      }
    },
    {
      "cell_type": "code",
      "source": [
        "def function (Celsius):\n",
        "  Farenheit=(Celsius*9/5)+32\n",
        "  return Farenheit\n",
        "Celsius=int(input(\"Ingresar en °C\"))\n",
        "print(function(Celsius))"
      ],
      "metadata": {
        "id": "_2kncrvtRg1f",
        "colab": {
          "base_uri": "https://localhost:8080/"
        },
        "outputId": "9a219aba-fa6b-4a29-ffd3-d24f4f2b29de"
      },
      "execution_count": 13,
      "outputs": [
        {
          "output_type": "stream",
          "name": "stdout",
          "text": [
            "Ingresar en °C25\n",
            "77.0\n"
          ]
        }
      ]
    },
    {
      "cell_type": "markdown",
      "source": [
        "**6.\tContar la Cantidad de Vocales en una Cadena de Texto:** Utilizar un bucle for y una condicional para contar cuántas vocales hay en una cadena de texto ingresada por el usuario.\n",
        "\n",
        "-\tPasos:\n",
        "1.\tPedir una cadena de texto al usuario.\n",
        "2.\tInicializar un contador de vocales en 0.\n",
        "3.\tRecorrer cada letra con un for.\n",
        "4.\tSi la letra es una vocal (a, e, i, o, u), aumentar el contador.\n",
        "5.\tMostrar el total de vocales.\n"
      ],
      "metadata": {
        "id": "6FQamkdLRO2m"
      }
    },
    {
      "cell_type": "code",
      "source": [
        "texto = input(\"Ingresa un texto: \")\n",
        "vocales = \"aeiouAEIOU\"\n",
        "contador = 0\n",
        "\n",
        "for letraa in texto:\n",
        "    if letraa in vocales:\n",
        "        contador += 1\n",
        "\n",
        "print(\"Cantidad de vocales:\", contador)\n",
        "\n",
        "texto = \"Hola loca\"\n",
        "for letra in texto:\n",
        "    print(\"Letra actual:\", letra)"
      ],
      "metadata": {
        "id": "v1nIfE7bRhM-",
        "colab": {
          "base_uri": "https://localhost:8080/"
        },
        "outputId": "62b947a2-b483-4c76-fe09-5f328c55a88c"
      },
      "execution_count": 18,
      "outputs": [
        {
          "output_type": "stream",
          "name": "stdout",
          "text": [
            "Ingresa un texto: mimimimi\n",
            "Cantidad de vocales: 4\n",
            "Letra actual: H\n",
            "Letra actual: o\n",
            "Letra actual: l\n",
            "Letra actual: a\n",
            "Letra actual:  \n",
            "Letra actual: l\n",
            "Letra actual: o\n",
            "Letra actual: c\n",
            "Letra actual: a\n"
          ]
        }
      ]
    },
    {
      "cell_type": "markdown",
      "source": [
        "**7.\tCalcular el Factorial de un Número:** Usar un bucle while para calcular el factorial de un número ingresado por el usuario. El factorial de un número n (n!) es el producto de todos los números enteros positivos menores o iguales a n.\n",
        "\n",
        "Pasos\n",
        "1.\tPedir un número entero positivo al usuario.\n",
        "2.\tInicializar una variable factorial en 1.\n",
        "3.\tUsar un bucle while desde el número hasta 1.\n",
        "4.\tMultiplicar factorial por cada número en la cuenta regresiva.\n",
        "5.\tMostrar el resultado.\n"
      ],
      "metadata": {
        "id": "p0utccHiRY6J"
      }
    },
    {
      "cell_type": "code",
      "source": [
        "x=int(input(\"Ingresar numero: \"))\n",
        "factorial = 1\n",
        "while x > 1:\n",
        "  factorial= factorial * x\n",
        "  x=x-1\n",
        "print(\"El factorial es:\", factorial)"
      ],
      "metadata": {
        "id": "3hUU8b3eRhik",
        "colab": {
          "base_uri": "https://localhost:8080/"
        },
        "outputId": "c415a2db-5dd1-4aac-f231-8f19b319d2de"
      },
      "execution_count": 26,
      "outputs": [
        {
          "output_type": "stream",
          "name": "stdout",
          "text": [
            "Ingresar numero: 5\n",
            "El factorial es: 120\n"
          ]
        }
      ]
    },
    {
      "cell_type": "code",
      "source": [
        "x=int(input(\"Ingresar numero: \"))\n",
        "factorial = 1\n",
        "while x>1:\n",
        "  factorial= factorial * x\n",
        "  x=x-1\n",
        "print(\"El factorial es:\", factorial)"
      ],
      "metadata": {
        "colab": {
          "base_uri": "https://localhost:8080/"
        },
        "id": "dkkaRcXs0hef",
        "outputId": "ce815a17-ede2-40b2-ae33-e2cb322d3206"
      },
      "execution_count": 31,
      "outputs": [
        {
          "output_type": "stream",
          "name": "stdout",
          "text": [
            "Ingresar numero: 5\n",
            "El factorial es: 120\n"
          ]
        }
      ]
    }
  ]
}