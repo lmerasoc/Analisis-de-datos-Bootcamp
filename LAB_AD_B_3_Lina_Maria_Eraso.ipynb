{
  "nbformat": 4,
  "nbformat_minor": 0,
  "metadata": {
    "colab": {
      "provenance": [],
      "authorship_tag": "ABX9TyPl5RZyZ3kBSF2IVby1zdlM",
      "include_colab_link": true
    },
    "kernelspec": {
      "name": "python3",
      "display_name": "Python 3"
    },
    "language_info": {
      "name": "python"
    }
  },
  "cells": [
    {
      "cell_type": "markdown",
      "metadata": {
        "id": "view-in-github",
        "colab_type": "text"
      },
      "source": [
        "<a href=\"https://colab.research.google.com/github/lmerasoc/Analisis-de-datos-Bootcamp/blob/main/LAB_AD_B_3_Lina_Maria_Eraso.ipynb\" target=\"_parent\"><img src=\"https://colab.research.google.com/assets/colab-badge.svg\" alt=\"Open In Colab\"/></a>"
      ]
    },
    {
      "cell_type": "markdown",
      "source": [
        "Parte 1: Identificación de Problemas en los Datos\n",
        "-\tExploración inicial del dataset:\n",
        "•\tCargar los datos con Pandas y usar funciones como .isnull(), .duplicated(), y\n",
        ".value_counts() sobre la columna “City”.\n"
      ],
      "metadata": {
        "id": "YSmiEphxvrN-"
      }
    },
    {
      "cell_type": "code",
      "execution_count": 86,
      "metadata": {
        "colab": {
          "base_uri": "https://localhost:8080/",
          "height": 73
        },
        "id": "ST72DSLjvcLO",
        "outputId": "570898da-69c0-4ff2-b8d4-a1bbee4ac650"
      },
      "outputs": [
        {
          "output_type": "display_data",
          "data": {
            "text/plain": [
              "<IPython.core.display.HTML object>"
            ],
            "text/html": [
              "\n",
              "     <input type=\"file\" id=\"files-fd58bdc3-a6df-4659-9d23-2e6c4f3399e4\" name=\"files[]\" multiple disabled\n",
              "        style=\"border:none\" />\n",
              "     <output id=\"result-fd58bdc3-a6df-4659-9d23-2e6c4f3399e4\">\n",
              "      Upload widget is only available when the cell has been executed in the\n",
              "      current browser session. Please rerun this cell to enable.\n",
              "      </output>\n",
              "      <script>// Copyright 2017 Google LLC\n",
              "//\n",
              "// Licensed under the Apache License, Version 2.0 (the \"License\");\n",
              "// you may not use this file except in compliance with the License.\n",
              "// You may obtain a copy of the License at\n",
              "//\n",
              "//      http://www.apache.org/licenses/LICENSE-2.0\n",
              "//\n",
              "// Unless required by applicable law or agreed to in writing, software\n",
              "// distributed under the License is distributed on an \"AS IS\" BASIS,\n",
              "// WITHOUT WARRANTIES OR CONDITIONS OF ANY KIND, either express or implied.\n",
              "// See the License for the specific language governing permissions and\n",
              "// limitations under the License.\n",
              "\n",
              "/**\n",
              " * @fileoverview Helpers for google.colab Python module.\n",
              " */\n",
              "(function(scope) {\n",
              "function span(text, styleAttributes = {}) {\n",
              "  const element = document.createElement('span');\n",
              "  element.textContent = text;\n",
              "  for (const key of Object.keys(styleAttributes)) {\n",
              "    element.style[key] = styleAttributes[key];\n",
              "  }\n",
              "  return element;\n",
              "}\n",
              "\n",
              "// Max number of bytes which will be uploaded at a time.\n",
              "const MAX_PAYLOAD_SIZE = 100 * 1024;\n",
              "\n",
              "function _uploadFiles(inputId, outputId) {\n",
              "  const steps = uploadFilesStep(inputId, outputId);\n",
              "  const outputElement = document.getElementById(outputId);\n",
              "  // Cache steps on the outputElement to make it available for the next call\n",
              "  // to uploadFilesContinue from Python.\n",
              "  outputElement.steps = steps;\n",
              "\n",
              "  return _uploadFilesContinue(outputId);\n",
              "}\n",
              "\n",
              "// This is roughly an async generator (not supported in the browser yet),\n",
              "// where there are multiple asynchronous steps and the Python side is going\n",
              "// to poll for completion of each step.\n",
              "// This uses a Promise to block the python side on completion of each step,\n",
              "// then passes the result of the previous step as the input to the next step.\n",
              "function _uploadFilesContinue(outputId) {\n",
              "  const outputElement = document.getElementById(outputId);\n",
              "  const steps = outputElement.steps;\n",
              "\n",
              "  const next = steps.next(outputElement.lastPromiseValue);\n",
              "  return Promise.resolve(next.value.promise).then((value) => {\n",
              "    // Cache the last promise value to make it available to the next\n",
              "    // step of the generator.\n",
              "    outputElement.lastPromiseValue = value;\n",
              "    return next.value.response;\n",
              "  });\n",
              "}\n",
              "\n",
              "/**\n",
              " * Generator function which is called between each async step of the upload\n",
              " * process.\n",
              " * @param {string} inputId Element ID of the input file picker element.\n",
              " * @param {string} outputId Element ID of the output display.\n",
              " * @return {!Iterable<!Object>} Iterable of next steps.\n",
              " */\n",
              "function* uploadFilesStep(inputId, outputId) {\n",
              "  const inputElement = document.getElementById(inputId);\n",
              "  inputElement.disabled = false;\n",
              "\n",
              "  const outputElement = document.getElementById(outputId);\n",
              "  outputElement.innerHTML = '';\n",
              "\n",
              "  const pickedPromise = new Promise((resolve) => {\n",
              "    inputElement.addEventListener('change', (e) => {\n",
              "      resolve(e.target.files);\n",
              "    });\n",
              "  });\n",
              "\n",
              "  const cancel = document.createElement('button');\n",
              "  inputElement.parentElement.appendChild(cancel);\n",
              "  cancel.textContent = 'Cancel upload';\n",
              "  const cancelPromise = new Promise((resolve) => {\n",
              "    cancel.onclick = () => {\n",
              "      resolve(null);\n",
              "    };\n",
              "  });\n",
              "\n",
              "  // Wait for the user to pick the files.\n",
              "  const files = yield {\n",
              "    promise: Promise.race([pickedPromise, cancelPromise]),\n",
              "    response: {\n",
              "      action: 'starting',\n",
              "    }\n",
              "  };\n",
              "\n",
              "  cancel.remove();\n",
              "\n",
              "  // Disable the input element since further picks are not allowed.\n",
              "  inputElement.disabled = true;\n",
              "\n",
              "  if (!files) {\n",
              "    return {\n",
              "      response: {\n",
              "        action: 'complete',\n",
              "      }\n",
              "    };\n",
              "  }\n",
              "\n",
              "  for (const file of files) {\n",
              "    const li = document.createElement('li');\n",
              "    li.append(span(file.name, {fontWeight: 'bold'}));\n",
              "    li.append(span(\n",
              "        `(${file.type || 'n/a'}) - ${file.size} bytes, ` +\n",
              "        `last modified: ${\n",
              "            file.lastModifiedDate ? file.lastModifiedDate.toLocaleDateString() :\n",
              "                                    'n/a'} - `));\n",
              "    const percent = span('0% done');\n",
              "    li.appendChild(percent);\n",
              "\n",
              "    outputElement.appendChild(li);\n",
              "\n",
              "    const fileDataPromise = new Promise((resolve) => {\n",
              "      const reader = new FileReader();\n",
              "      reader.onload = (e) => {\n",
              "        resolve(e.target.result);\n",
              "      };\n",
              "      reader.readAsArrayBuffer(file);\n",
              "    });\n",
              "    // Wait for the data to be ready.\n",
              "    let fileData = yield {\n",
              "      promise: fileDataPromise,\n",
              "      response: {\n",
              "        action: 'continue',\n",
              "      }\n",
              "    };\n",
              "\n",
              "    // Use a chunked sending to avoid message size limits. See b/62115660.\n",
              "    let position = 0;\n",
              "    do {\n",
              "      const length = Math.min(fileData.byteLength - position, MAX_PAYLOAD_SIZE);\n",
              "      const chunk = new Uint8Array(fileData, position, length);\n",
              "      position += length;\n",
              "\n",
              "      const base64 = btoa(String.fromCharCode.apply(null, chunk));\n",
              "      yield {\n",
              "        response: {\n",
              "          action: 'append',\n",
              "          file: file.name,\n",
              "          data: base64,\n",
              "        },\n",
              "      };\n",
              "\n",
              "      let percentDone = fileData.byteLength === 0 ?\n",
              "          100 :\n",
              "          Math.round((position / fileData.byteLength) * 100);\n",
              "      percent.textContent = `${percentDone}% done`;\n",
              "\n",
              "    } while (position < fileData.byteLength);\n",
              "  }\n",
              "\n",
              "  // All done.\n",
              "  yield {\n",
              "    response: {\n",
              "      action: 'complete',\n",
              "    }\n",
              "  };\n",
              "}\n",
              "\n",
              "scope.google = scope.google || {};\n",
              "scope.google.colab = scope.google.colab || {};\n",
              "scope.google.colab._files = {\n",
              "  _uploadFiles,\n",
              "  _uploadFilesContinue,\n",
              "};\n",
              "})(self);\n",
              "</script> "
            ]
          },
          "metadata": {}
        },
        {
          "output_type": "stream",
          "name": "stdout",
          "text": [
            "Saving CSV Laboratorio 3 AD-B.csv to CSV Laboratorio 3 AD-B (2).csv\n"
          ]
        }
      ],
      "source": [
        "import pandas as pd;\n",
        "import numpy as np;\n",
        "from google.colab import files\n",
        "uploaded = files.upload()"
      ]
    },
    {
      "cell_type": "code",
      "source": [
        "df = pd.read_csv('CSV Laboratorio 3 AD-B.csv')\n",
        "print(df.count())\n",
        "print(df.head(20))"
      ],
      "metadata": {
        "colab": {
          "base_uri": "https://localhost:8080/"
        },
        "id": "Er26oavUwADg",
        "outputId": "c076c3b3-d5e1-4f3c-bdd9-ce431943b381"
      },
      "execution_count": 119,
      "outputs": [
        {
          "output_type": "stream",
          "name": "stdout",
          "text": [
            "ID          60\n",
            "Name        60\n",
            "Category    50\n",
            "City        45\n",
            "Value       58\n",
            "Date        60\n",
            "dtype: int64\n",
            "    ID     Name    Category         City  Value        Date\n",
            "0    1  Charlie       Cat C      Chicago   46.0   4/13/2023\n",
            "1    2     Jane       Cat C      Houston   53.0  12/15/2023\n",
            "2    3     Jane  category a      Chicago   68.0   9/28/2023\n",
            "3    4     John         NaN     New York   97.0   4/17/2023\n",
            "4    5     Jane       Cat C      Houston   71.0   3/13/2023\n",
            "5    6      Eve  category a  Los Angeles   61.0    7/8/2023\n",
            "6    7     Jane  Category A      Chicago   48.0   1/21/2023\n",
            "7    8      Bob  CATEGORY B     New York   65.0   4/13/2023\n",
            "8    9      Bob  CATEGORY B  Los Angeles    NaN    5/2/2023\n",
            "9   10     Dave  CATEGORY B  Los Angeles   11.0    8/3/2023\n",
            "10  11      Bob       Cat C          NaN   96.0  11/27/2023\n",
            "11  12     Dave  Category A      Houston   10.0   3/29/2023\n",
            "12  13      Bob       Cat C      Chicago   11.0   4/10/2023\n",
            "13  14      Eve         NaN     New York   99.0  12/26/2023\n",
            "14  15    Grace       Cat C          NaN   41.0    6/1/2023\n",
            "15  16     Dave  Category A      Houston   64.0   5/11/2023\n",
            "16  17    Alice  Category A          NaN   26.0   5/30/2023\n",
            "17  18  Charlie         NaN      Houston   33.0   11/5/2023\n",
            "18  19     John  Category A      Houston   79.0   9/15/2023\n",
            "19  20      Bob  Category A      Chicago   25.0  12/10/2023\n"
          ]
        }
      ]
    },
    {
      "cell_type": "code",
      "source": [
        "#Valores nulos\n",
        "print(df.isnull().sum())"
      ],
      "metadata": {
        "colab": {
          "base_uri": "https://localhost:8080/"
        },
        "id": "LMw_7EoLwyxY",
        "outputId": "b6059ec3-712f-47be-c1be-1383e65107ce"
      },
      "execution_count": 88,
      "outputs": [
        {
          "output_type": "stream",
          "name": "stdout",
          "text": [
            "ID           0\n",
            "Name         0\n",
            "Category    10\n",
            "City        15\n",
            "Value        2\n",
            "Date         0\n",
            "dtype: int64\n"
          ]
        }
      ]
    },
    {
      "cell_type": "code",
      "source": [
        "#Duplicated\n",
        "print(\"Datos duplicados:\",df.duplicated().sum())\n",
        "print(df.duplicated())"
      ],
      "metadata": {
        "colab": {
          "base_uri": "https://localhost:8080/"
        },
        "id": "T64Ryyksx1-f",
        "outputId": "82bcc6cb-5c47-442b-a6f4-2ab11921778c"
      },
      "execution_count": 89,
      "outputs": [
        {
          "output_type": "stream",
          "name": "stdout",
          "text": [
            "Datos duplicados: 10\n",
            "0     False\n",
            "1     False\n",
            "2     False\n",
            "3     False\n",
            "4     False\n",
            "5     False\n",
            "6     False\n",
            "7     False\n",
            "8     False\n",
            "9     False\n",
            "10    False\n",
            "11    False\n",
            "12    False\n",
            "13    False\n",
            "14    False\n",
            "15    False\n",
            "16    False\n",
            "17    False\n",
            "18    False\n",
            "19    False\n",
            "20    False\n",
            "21    False\n",
            "22    False\n",
            "23    False\n",
            "24    False\n",
            "25    False\n",
            "26    False\n",
            "27    False\n",
            "28    False\n",
            "29    False\n",
            "30    False\n",
            "31    False\n",
            "32    False\n",
            "33    False\n",
            "34    False\n",
            "35    False\n",
            "36    False\n",
            "37    False\n",
            "38    False\n",
            "39    False\n",
            "40    False\n",
            "41    False\n",
            "42    False\n",
            "43    False\n",
            "44    False\n",
            "45    False\n",
            "46    False\n",
            "47    False\n",
            "48    False\n",
            "49    False\n",
            "50     True\n",
            "51     True\n",
            "52     True\n",
            "53     True\n",
            "54     True\n",
            "55     True\n",
            "56     True\n",
            "57     True\n",
            "58     True\n",
            "59     True\n",
            "dtype: bool\n"
          ]
        }
      ]
    },
    {
      "cell_type": "code",
      "source": [
        "#Contar ciudades\n",
        "print(df['City'].value_counts())"
      ],
      "metadata": {
        "colab": {
          "base_uri": "https://localhost:8080/"
        },
        "id": "yxVG8kbRy__F",
        "outputId": "4a8374f6-fb78-4a03-d5ae-0b1bc3bf1279"
      },
      "execution_count": 90,
      "outputs": [
        {
          "output_type": "stream",
          "name": "stdout",
          "text": [
            "City\n",
            "Chicago        13\n",
            "Houston        13\n",
            "New York       12\n",
            "Los Angeles     7\n",
            "Name: count, dtype: int64\n"
          ]
        }
      ]
    },
    {
      "cell_type": "markdown",
      "source": [
        "Parte 2: Limpieza de Datos con Python\n",
        "1. Corrección de errores:\n",
        "\n",
        "•\tEliminar o reemplazar valores nulos (fillna, dropna).\n",
        "\n",
        "•\tEliminar duplicados con .drop_duplicates().\n",
        "\n",
        "•\tNormalización de formatos en columnas (e.g., convertir texto a minúsculas, estandarizar fechas al formato AAAA/MM/DD con pd.to_datetime).\n",
        "\n",
        "•\tEstandarizar formato de “Category”.\n"
      ],
      "metadata": {
        "id": "pmeW91KjzI9Q"
      }
    },
    {
      "cell_type": "markdown",
      "source": [
        "\n",
        "2. Validación del dataset limpio: Revisar nuevamente el dataset para asegurar que los problemas han sido corregidos.\n",
        "3. Exportar el dataset limpio en extensión CSV ya que se usará para el siguiente laboratorio.\n"
      ],
      "metadata": {
        "id": "L2bv9i0yzNrc"
      }
    },
    {
      "cell_type": "code",
      "source": [
        "#Eliminar datos\n",
        "df1 = df.dropna()\n",
        "print(df1.isnull().sum())\n",
        "print(df1)\n",
        "print(df1.count())"
      ],
      "metadata": {
        "colab": {
          "base_uri": "https://localhost:8080/"
        },
        "id": "psDdbkK0zLNw",
        "outputId": "b7d4f980-be93-4f41-ed82-2553d61aaf06"
      },
      "execution_count": 91,
      "outputs": [
        {
          "output_type": "stream",
          "name": "stdout",
          "text": [
            "ID          0\n",
            "Name        0\n",
            "Category    0\n",
            "City        0\n",
            "Value       0\n",
            "Date        0\n",
            "dtype: int64\n",
            "    ID     Name    Category         City  Value        Date\n",
            "0    1  Charlie       Cat C      Chicago   46.0   4/13/2023\n",
            "1    2     Jane       Cat C      Houston   53.0  12/15/2023\n",
            "2    3     Jane  category a      Chicago   68.0   9/28/2023\n",
            "4    5     Jane       Cat C      Houston   71.0   3/13/2023\n",
            "5    6      Eve  category a  Los Angeles   61.0    7/8/2023\n",
            "6    7     Jane  Category A      Chicago   48.0   1/21/2023\n",
            "7    8      Bob  CATEGORY B     New York   65.0   4/13/2023\n",
            "9   10     Dave  CATEGORY B  Los Angeles   11.0    8/3/2023\n",
            "11  12     Dave  Category A      Houston   10.0   3/29/2023\n",
            "12  13      Bob       Cat C      Chicago   11.0   4/10/2023\n",
            "15  16     Dave  Category A      Houston   64.0   5/11/2023\n",
            "18  19     John  Category A      Houston   79.0   9/15/2023\n",
            "19  20      Bob  Category A      Chicago   25.0  12/10/2023\n",
            "20  21     Jane  CATEGORY B      Houston   68.0  10/21/2023\n",
            "22  23      Bob  Category B      Houston   68.0   10/4/2023\n",
            "23  24     Jane  Category B      Chicago   99.0   6/10/2023\n",
            "24  25  Charlie  Category A      Chicago   28.0  11/10/2023\n",
            "26  27  Charlie  Category B  Los Angeles   42.0   9/10/2023\n",
            "27  28     Jane  Category A  Los Angeles   48.0   8/24/2023\n",
            "28  29      Bob  Category B      Houston   10.0  12/11/2023\n",
            "29  30  Charlie       Cat C     New York   66.0   2/18/2023\n",
            "30  31      Eve  category a      Houston   32.0   2/28/2023\n",
            "36  37     Jane  Category A      Chicago   46.0   2/20/2023\n",
            "37  38  Charlie  CATEGORY B  Los Angeles   18.0  12/30/2023\n",
            "39  40  Charlie  Category A     New York   12.0    9/1/2023\n",
            "42  43     Dave       Cat-C     New York   81.0   11/3/2023\n",
            "43  44    Grace       Cat C      Chicago   93.0   5/15/2023\n",
            "44  45  Charlie  Category B     New York   98.0   1/21/2023\n",
            "46  47      Bob       Cat-C      Houston   91.0   6/16/2023\n",
            "47  48     John  Category B     New York   44.0   10/1/2023\n",
            "48  49  Charlie  Category B      Chicago   50.0   3/30/2023\n",
            "49  50    Grace  Category A      Chicago   77.0  11/12/2023\n",
            "51  40  Charlie  Category A     New York   12.0    9/1/2023\n",
            "52  31      Eve  category a      Houston   32.0   2/28/2023\n",
            "55  49  Charlie  Category B      Chicago   50.0   3/30/2023\n",
            "56  27  Charlie  Category B  Los Angeles   42.0   9/10/2023\n",
            "59  20      Bob  Category A      Chicago   25.0  12/10/2023\n",
            "ID          37\n",
            "Name        37\n",
            "Category    37\n",
            "City        37\n",
            "Value       37\n",
            "Date        37\n",
            "dtype: int64\n"
          ]
        }
      ]
    },
    {
      "cell_type": "code",
      "source": [
        "#Eliminar duplicados\n",
        "df2 = df1.drop_duplicates()\n",
        "df3=df2\n",
        "print(\"Datos duplicados:\",df2.duplicated().sum())\n",
        "print(df2)\n",
        "print(df2.count())"
      ],
      "metadata": {
        "colab": {
          "base_uri": "https://localhost:8080/"
        },
        "id": "nLDSELW11p7M",
        "outputId": "18ea66aa-9a33-4b7e-f5e6-39664afcc640"
      },
      "execution_count": 94,
      "outputs": [
        {
          "output_type": "stream",
          "name": "stdout",
          "text": [
            "Datos duplicados: 0\n",
            "    ID     Name    Category         City  Value        Date\n",
            "0    1  Charlie       Cat C      Chicago   46.0   4/13/2023\n",
            "1    2     Jane       Cat C      Houston   53.0  12/15/2023\n",
            "2    3     Jane  category a      Chicago   68.0   9/28/2023\n",
            "4    5     Jane       Cat C      Houston   71.0   3/13/2023\n",
            "5    6      Eve  category a  Los Angeles   61.0    7/8/2023\n",
            "6    7     Jane  Category A      Chicago   48.0   1/21/2023\n",
            "7    8      Bob  CATEGORY B     New York   65.0   4/13/2023\n",
            "9   10     Dave  CATEGORY B  Los Angeles   11.0    8/3/2023\n",
            "11  12     Dave  Category A      Houston   10.0   3/29/2023\n",
            "12  13      Bob       Cat C      Chicago   11.0   4/10/2023\n",
            "15  16     Dave  Category A      Houston   64.0   5/11/2023\n",
            "18  19     John  Category A      Houston   79.0   9/15/2023\n",
            "19  20      Bob  Category A      Chicago   25.0  12/10/2023\n",
            "20  21     Jane  CATEGORY B      Houston   68.0  10/21/2023\n",
            "22  23      Bob  Category B      Houston   68.0   10/4/2023\n",
            "23  24     Jane  Category B      Chicago   99.0   6/10/2023\n",
            "24  25  Charlie  Category A      Chicago   28.0  11/10/2023\n",
            "26  27  Charlie  Category B  Los Angeles   42.0   9/10/2023\n",
            "27  28     Jane  Category A  Los Angeles   48.0   8/24/2023\n",
            "28  29      Bob  Category B      Houston   10.0  12/11/2023\n",
            "29  30  Charlie       Cat C     New York   66.0   2/18/2023\n",
            "30  31      Eve  category a      Houston   32.0   2/28/2023\n",
            "36  37     Jane  Category A      Chicago   46.0   2/20/2023\n",
            "37  38  Charlie  CATEGORY B  Los Angeles   18.0  12/30/2023\n",
            "39  40  Charlie  Category A     New York   12.0    9/1/2023\n",
            "42  43     Dave       Cat-C     New York   81.0   11/3/2023\n",
            "43  44    Grace       Cat C      Chicago   93.0   5/15/2023\n",
            "44  45  Charlie  Category B     New York   98.0   1/21/2023\n",
            "46  47      Bob       Cat-C      Houston   91.0   6/16/2023\n",
            "47  48     John  Category B     New York   44.0   10/1/2023\n",
            "48  49  Charlie  Category B      Chicago   50.0   3/30/2023\n",
            "49  50    Grace  Category A      Chicago   77.0  11/12/2023\n",
            "ID          32\n",
            "Name        32\n",
            "Category    32\n",
            "City        32\n",
            "Value       32\n",
            "Date        32\n",
            "dtype: int64\n"
          ]
        }
      ]
    },
    {
      "cell_type": "code",
      "source": [
        "#Normalización de formatos en columnas (e.g., convertir texto a minúsculas, estandarizar fechas al formato AAAA/MM/DD con pd.to_datetime).\n",
        "df3.loc[:,'City'] = df3['City'].str.capitalize()\n",
        "df3.loc[:,'Category'] = df3['Category'].str.capitalize()\n",
        "df3.loc[:,'Name'] = df3['Name'].str.capitalize()\n",
        "df3.loc[:,'Date'] = pd.to_datetime(df3['Date'])\n",
        "df4=df3\n",
        "print(df3)"
      ],
      "metadata": {
        "colab": {
          "base_uri": "https://localhost:8080/"
        },
        "id": "J4LhCDWe2YgU",
        "outputId": "f4589193-4089-4738-d2ff-925b92348d7c"
      },
      "execution_count": 108,
      "outputs": [
        {
          "output_type": "stream",
          "name": "stdout",
          "text": [
            "    ID     Name    Category         City  Value       Date\n",
            "0    1  Charlie  Category c      Chicago   46.0 2023-04-13\n",
            "1    2     Jane  Category c      Houston   53.0 2023-12-15\n",
            "2    3     Jane  Category a      Chicago   68.0 2023-09-28\n",
            "4    5     Jane  Category c      Houston   71.0 2023-03-13\n",
            "5    6      Eve  Category a  Los angeles   61.0 2023-07-08\n",
            "6    7     Jane  Category a      Chicago   48.0 2023-01-21\n",
            "7    8      Bob  Category b     New york   65.0 2023-04-13\n",
            "9   10     Dave  Category b  Los angeles   11.0 2023-08-03\n",
            "11  12     Dave  Category a      Houston   10.0 2023-03-29\n",
            "12  13      Bob  Category c      Chicago   11.0 2023-04-10\n",
            "15  16     Dave  Category a      Houston   64.0 2023-05-11\n",
            "18  19     John  Category a      Houston   79.0 2023-09-15\n",
            "19  20      Bob  Category a      Chicago   25.0 2023-12-10\n",
            "20  21     Jane  Category b      Houston   68.0 2023-10-21\n",
            "22  23      Bob  Category b      Houston   68.0 2023-10-04\n",
            "23  24     Jane  Category b      Chicago   99.0 2023-06-10\n",
            "24  25  Charlie  Category a      Chicago   28.0 2023-11-10\n",
            "26  27  Charlie  Category b  Los angeles   42.0 2023-09-10\n",
            "27  28     Jane  Category a  Los angeles   48.0 2023-08-24\n",
            "28  29      Bob  Category b      Houston   10.0 2023-12-11\n",
            "29  30  Charlie  Category c     New york   66.0 2023-02-18\n",
            "30  31      Eve  Category a      Houston   32.0 2023-02-28\n",
            "36  37     Jane  Category a      Chicago   46.0 2023-02-20\n",
            "37  38  Charlie  Category b  Los angeles   18.0 2023-12-30\n",
            "39  40  Charlie  Category a     New york   12.0 2023-09-01\n",
            "42  43     Dave       Cat-c     New york   81.0 2023-11-03\n",
            "43  44    Grace  Category c      Chicago   93.0 2023-05-15\n",
            "44  45  Charlie  Category b     New york   98.0 2023-01-21\n",
            "46  47      Bob       Cat-c      Houston   91.0 2023-06-16\n",
            "47  48     John  Category b     New york   44.0 2023-10-01\n",
            "48  49  Charlie  Category b      Chicago   50.0 2023-03-30\n",
            "49  50    Grace  Category a      Chicago   77.0 2023-11-12\n"
          ]
        }
      ]
    },
    {
      "cell_type": "code",
      "source": [
        "# Estandarizar formato de “Category”.\n",
        "df4 = df4.copy()\n",
        "df4.loc[:, 'Category'] = df4['Category'].str.replace('Cat c', 'Category c')\n",
        "df4.loc[:, 'Category'] = df4['Category'].str.replace('Cat-c', 'Category c')\n",
        "print(df4)\n",
        "print(df4.count())"
      ],
      "metadata": {
        "colab": {
          "base_uri": "https://localhost:8080/"
        },
        "id": "pU_vEzrM4lmz",
        "outputId": "25cac131-e33b-4a68-ed54-e66cf3f36758"
      },
      "execution_count": 117,
      "outputs": [
        {
          "output_type": "stream",
          "name": "stdout",
          "text": [
            "    ID     Name    Category         City  Value       Date\n",
            "0    1  Charlie  Category c      Chicago   46.0 2023-04-13\n",
            "1    2     Jane  Category c      Houston   53.0 2023-12-15\n",
            "2    3     Jane  Category a      Chicago   68.0 2023-09-28\n",
            "4    5     Jane  Category c      Houston   71.0 2023-03-13\n",
            "5    6      Eve  Category a  Los angeles   61.0 2023-07-08\n",
            "6    7     Jane  Category a      Chicago   48.0 2023-01-21\n",
            "7    8      Bob  Category b     New york   65.0 2023-04-13\n",
            "9   10     Dave  Category b  Los angeles   11.0 2023-08-03\n",
            "11  12     Dave  Category a      Houston   10.0 2023-03-29\n",
            "12  13      Bob  Category c      Chicago   11.0 2023-04-10\n",
            "15  16     Dave  Category a      Houston   64.0 2023-05-11\n",
            "18  19     John  Category a      Houston   79.0 2023-09-15\n",
            "19  20      Bob  Category a      Chicago   25.0 2023-12-10\n",
            "20  21     Jane  Category b      Houston   68.0 2023-10-21\n",
            "22  23      Bob  Category b      Houston   68.0 2023-10-04\n",
            "23  24     Jane  Category b      Chicago   99.0 2023-06-10\n",
            "24  25  Charlie  Category a      Chicago   28.0 2023-11-10\n",
            "26  27  Charlie  Category b  Los angeles   42.0 2023-09-10\n",
            "27  28     Jane  Category a  Los angeles   48.0 2023-08-24\n",
            "28  29      Bob  Category b      Houston   10.0 2023-12-11\n",
            "29  30  Charlie  Category c     New york   66.0 2023-02-18\n",
            "30  31      Eve  Category a      Houston   32.0 2023-02-28\n",
            "36  37     Jane  Category a      Chicago   46.0 2023-02-20\n",
            "37  38  Charlie  Category b  Los angeles   18.0 2023-12-30\n",
            "39  40  Charlie  Category a     New york   12.0 2023-09-01\n",
            "42  43     Dave  Category c     New york   81.0 2023-11-03\n",
            "43  44    Grace  Category c      Chicago   93.0 2023-05-15\n",
            "44  45  Charlie  Category b     New york   98.0 2023-01-21\n",
            "46  47      Bob  Category c      Houston   91.0 2023-06-16\n",
            "47  48     John  Category b     New york   44.0 2023-10-01\n",
            "48  49  Charlie  Category b      Chicago   50.0 2023-03-30\n",
            "49  50    Grace  Category a      Chicago   77.0 2023-11-12\n",
            "ID          32\n",
            "Name        32\n",
            "Category    32\n",
            "City        32\n",
            "Value       32\n",
            "Date        32\n",
            "dtype: int64\n"
          ]
        }
      ]
    },
    {
      "cell_type": "code",
      "source": [
        "#exportar\n",
        "df4.to_csv('CSV Laboratorio 3 AD-B_limpio.csv', index=False)\n",
        "print(df4)\n",
        "from google.colab import files\n",
        "files.download('CSV Laboratorio 3 AD-B_limpio.csv')"
      ],
      "metadata": {
        "id": "3c3-b4k280pX",
        "colab": {
          "base_uri": "https://localhost:8080/",
          "height": 590
        },
        "outputId": "8a12801c-8313-4b8e-9907-633121fdb799"
      },
      "execution_count": 116,
      "outputs": [
        {
          "output_type": "stream",
          "name": "stdout",
          "text": [
            "    ID     Name    Category         City  Value       Date\n",
            "0    1  Charlie  Category c      Chicago   46.0 2023-04-13\n",
            "1    2     Jane  Category c      Houston   53.0 2023-12-15\n",
            "2    3     Jane  Category a      Chicago   68.0 2023-09-28\n",
            "4    5     Jane  Category c      Houston   71.0 2023-03-13\n",
            "5    6      Eve  Category a  Los angeles   61.0 2023-07-08\n",
            "6    7     Jane  Category a      Chicago   48.0 2023-01-21\n",
            "7    8      Bob  Category b     New york   65.0 2023-04-13\n",
            "9   10     Dave  Category b  Los angeles   11.0 2023-08-03\n",
            "11  12     Dave  Category a      Houston   10.0 2023-03-29\n",
            "12  13      Bob  Category c      Chicago   11.0 2023-04-10\n",
            "15  16     Dave  Category a      Houston   64.0 2023-05-11\n",
            "18  19     John  Category a      Houston   79.0 2023-09-15\n",
            "19  20      Bob  Category a      Chicago   25.0 2023-12-10\n",
            "20  21     Jane  Category b      Houston   68.0 2023-10-21\n",
            "22  23      Bob  Category b      Houston   68.0 2023-10-04\n",
            "23  24     Jane  Category b      Chicago   99.0 2023-06-10\n",
            "24  25  Charlie  Category a      Chicago   28.0 2023-11-10\n",
            "26  27  Charlie  Category b  Los angeles   42.0 2023-09-10\n",
            "27  28     Jane  Category a  Los angeles   48.0 2023-08-24\n",
            "28  29      Bob  Category b      Houston   10.0 2023-12-11\n",
            "29  30  Charlie  Category c     New york   66.0 2023-02-18\n",
            "30  31      Eve  Category a      Houston   32.0 2023-02-28\n",
            "36  37     Jane  Category a      Chicago   46.0 2023-02-20\n",
            "37  38  Charlie  Category b  Los angeles   18.0 2023-12-30\n",
            "39  40  Charlie  Category a     New york   12.0 2023-09-01\n",
            "42  43     Dave  Category c     New york   81.0 2023-11-03\n",
            "43  44    Grace  Category c      Chicago   93.0 2023-05-15\n",
            "44  45  Charlie  Category b     New york   98.0 2023-01-21\n",
            "46  47      Bob  Category c      Houston   91.0 2023-06-16\n",
            "47  48     John  Category b     New york   44.0 2023-10-01\n",
            "48  49  Charlie  Category b      Chicago   50.0 2023-03-30\n",
            "49  50    Grace  Category a      Chicago   77.0 2023-11-12\n"
          ]
        },
        {
          "output_type": "display_data",
          "data": {
            "text/plain": [
              "<IPython.core.display.Javascript object>"
            ],
            "application/javascript": [
              "\n",
              "    async function download(id, filename, size) {\n",
              "      if (!google.colab.kernel.accessAllowed) {\n",
              "        return;\n",
              "      }\n",
              "      const div = document.createElement('div');\n",
              "      const label = document.createElement('label');\n",
              "      label.textContent = `Downloading \"${filename}\": `;\n",
              "      div.appendChild(label);\n",
              "      const progress = document.createElement('progress');\n",
              "      progress.max = size;\n",
              "      div.appendChild(progress);\n",
              "      document.body.appendChild(div);\n",
              "\n",
              "      const buffers = [];\n",
              "      let downloaded = 0;\n",
              "\n",
              "      const channel = await google.colab.kernel.comms.open(id);\n",
              "      // Send a message to notify the kernel that we're ready.\n",
              "      channel.send({})\n",
              "\n",
              "      for await (const message of channel.messages) {\n",
              "        // Send a message to notify the kernel that we're ready.\n",
              "        channel.send({})\n",
              "        if (message.buffers) {\n",
              "          for (const buffer of message.buffers) {\n",
              "            buffers.push(buffer);\n",
              "            downloaded += buffer.byteLength;\n",
              "            progress.value = downloaded;\n",
              "          }\n",
              "        }\n",
              "      }\n",
              "      const blob = new Blob(buffers, {type: 'application/binary'});\n",
              "      const a = document.createElement('a');\n",
              "      a.href = window.URL.createObjectURL(blob);\n",
              "      a.download = filename;\n",
              "      div.appendChild(a);\n",
              "      a.click();\n",
              "      div.remove();\n",
              "    }\n",
              "  "
            ]
          },
          "metadata": {}
        },
        {
          "output_type": "display_data",
          "data": {
            "text/plain": [
              "<IPython.core.display.Javascript object>"
            ],
            "application/javascript": [
              "download(\"download_0d97798b-09af-4560-8aac-6bbdcd73462d\", \"CSV Laboratorio 3 AD-B_limpio.csv\", 1446)"
            ]
          },
          "metadata": {}
        }
      ]
    }
  ]
}