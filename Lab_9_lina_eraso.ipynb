{
  "nbformat": 4,
  "nbformat_minor": 0,
  "metadata": {
    "colab": {
      "provenance": [],
      "authorship_tag": "ABX9TyNE04wnbDV7Xsh32FjasK+o",
      "include_colab_link": true
    },
    "kernelspec": {
      "name": "python3",
      "display_name": "Python 3"
    },
    "language_info": {
      "name": "python"
    }
  },
  "cells": [
    {
      "cell_type": "markdown",
      "metadata": {
        "id": "view-in-github",
        "colab_type": "text"
      },
      "source": [
        "<a href=\"https://colab.research.google.com/github/lmerasoc/Analisis-de-datos-Bootcamp/blob/main/Lab_9_lina_eraso.ipynb\" target=\"_parent\"><img src=\"https://colab.research.google.com/assets/colab-badge.svg\" alt=\"Open In Colab\"/></a>"
      ]
    },
    {
      "cell_type": "markdown",
      "source": [
        "\n",
        "PARTE 1\n",
        "1.\tSe tiene un conjunto de datos sobre empleados que incluye su nombre, edad, salario y fecha de ingreso. Se requiere implementar algunos pasos de aseguramiento de la calidad de los datos, como la verificación de valores faltantes y la validación de formatos de datos.\n",
        "\t1. Identificar y contar los valores faltantes en cada columna.\n",
        "  2. Verificar el formato de la columna 'Salario' para asegurar que todos los valores sean numéricos.\n",
        "  3. Validar y estandarizar el formato de la columna 'Fecha Ingreso' a YYYY-MM-DD.\n"
      ],
      "metadata": {
        "id": "FGFthjPEvHcH"
      }
    },
    {
      "cell_type": "code",
      "source": [
        "import pandas as pd\n",
        "data={\n",
        "    'Nombre':['Juan','Ana', 'Pedro','María','Luis','Ana'],\n",
        "    'Edad':[28, 34, None, 45, 38, 34],\n",
        "    'Salario':['3000', '4000', 'cinco mil', '4500', '4000', '5000'],\n",
        "    'FechaIngreso':['2021-01-15',\t'2020/03/12',\t'2022-07-01','2021/12/01','2021-05-20', '2020-03-12']\n",
        "}\n",
        "df=pd.DataFrame(data)\n",
        "print(df)"
      ],
      "metadata": {
        "id": "hWmUC7P4vZl5",
        "colab": {
          "base_uri": "https://localhost:8080/"
        },
        "outputId": "a0b97a19-7819-4272-c903-b185dc5b3c5a"
      },
      "execution_count": 2,
      "outputs": [
        {
          "output_type": "stream",
          "name": "stdout",
          "text": [
            "  Nombre  Edad    Salario FechaIngreso\n",
            "0   Juan  28.0       3000   2021-01-15\n",
            "1    Ana  34.0       4000   2020/03/12\n",
            "2  Pedro   NaN  cinco mil   2022-07-01\n",
            "3  María  45.0       4500   2021/12/01\n",
            "4   Luis  38.0       4000   2021-05-20\n",
            "5    Ana  34.0       5000   2020-03-12\n"
          ]
        }
      ]
    },
    {
      "cell_type": "code",
      "source": [
        "# 1. Identificar y contar valores faltantes\n",
        "print(\"Valores faltantes:\")\n",
        "print(df.isnull().sum())\n",
        "# 2. Verificar formato de 'Salario'\n",
        "print(\"\\nFormato incorrecto en 'Salario':\")\n",
        "print(df[~df['Salario'].str.replace('[^0-9]', '').str.isdigit()])\n",
        "# 3. Validar y estandarizar 'FechaIngreso'\n",
        "df['FechaIngreso'] = pd.to_datetime(df['FechaIngreso'], errors='coerce', format='%Y-%m-%d')\n",
        "print(\"\\nDatos después de la validación y estandarización de 'FechaIngreso':\")\n",
        "print(df)\n"
      ],
      "metadata": {
        "colab": {
          "base_uri": "https://localhost:8080/"
        },
        "id": "wVdV1PtLw_6V",
        "outputId": "985d40f0-e84d-4218-9a8d-36ba25fea0dd"
      },
      "execution_count": 28,
      "outputs": [
        {
          "output_type": "stream",
          "name": "stdout",
          "text": [
            "Valores faltantes:\n",
            "Nombre          0\n",
            "Edad            1\n",
            "Salario         0\n",
            "FechaIngreso    0\n",
            "dtype: int64\n",
            "\n",
            "Formato incorrecto en 'Salario':\n",
            "  Nombre  Edad    Salario FechaIngreso\n",
            "2  Pedro   NaN  cinco mil   2022-07-01\n",
            "\n",
            "Datos después de la validación y estandarización de 'FechaIngreso':\n",
            "  Nombre  Edad    Salario FechaIngreso\n",
            "0   Juan  28.0       3000   2021-01-15\n",
            "1    Ana  34.0       4000          NaT\n",
            "2  Pedro   NaN  cinco mil   2022-07-01\n",
            "3  María  45.0       4500          NaT\n",
            "4   Luis  38.0       4000   2021-05-20\n",
            "5    Ana  34.0       5000   2020-03-12\n"
          ]
        }
      ]
    },
    {
      "cell_type": "code",
      "source": [
        "df['Salariolimpio']=df['Salario'].str.replace('[^0-9]', '', regex=True)\n",
        "df['Salariolimpio'] = pd.to_numeric(df['Salariolimpio'], errors='coerce')\n",
        "print(df)"
      ],
      "metadata": {
        "colab": {
          "base_uri": "https://localhost:8080/"
        },
        "id": "mGPlD42i07NC",
        "outputId": "0bd37bb2-e0cb-4947-ff11-23fbd30fcc08"
      },
      "execution_count": 29,
      "outputs": [
        {
          "output_type": "stream",
          "name": "stdout",
          "text": [
            "  Nombre  Edad    Salario FechaIngreso  Salariolimpio\n",
            "0   Juan  28.0       3000   2021-01-15         3000.0\n",
            "1    Ana  34.0       4000          NaT         4000.0\n",
            "2  Pedro   NaN  cinco mil   2022-07-01            NaN\n",
            "3  María  45.0       4500          NaT         4500.0\n",
            "4   Luis  38.0       4000   2021-05-20         4000.0\n",
            "5    Ana  34.0       5000   2020-03-12         5000.0\n"
          ]
        }
      ]
    },
    {
      "cell_type": "markdown",
      "source": [
        "2. Se tiene un conjunto de datos sobre empleados que incluye su nombre, edad, salario, puesto de trabajo y fecha de ingreso. Se requiere implementar aseguramiento de la calidad de los datos, verificando la completitud de los datos, la validez de los salarios y la consistencia de las fechas de ingreso.\n",
        "-\tSe requiere:\n",
        "1.\tIdentificar y contar los valores faltantes en cada columna.\n",
        "2.\tVerificar el formato de la columna \"Salario\" para asegurarse de que todos los valores sean numéricos.\n",
        "3.\tValidar y estandarizar el formato de la columna \"FechaIngreso\" a YYYY-MM-DD.\n",
        "4.\tVerificar que no haya valores faltantes en la columna \"Cargo\"\n"
      ],
      "metadata": {
        "id": "ThnZjNbA3LoM"
      }
    },
    {
      "cell_type": "code",
      "source": [
        "data1 = {\n",
        "    'Nombre': ['Juan', 'Ana', 'Pedro', 'María', 'Luis', 'Carla'],\n",
        "    'Edad': [28, None, 40, 45, 38, 34],\n",
        "    'Salario': ['3000', '4000', '4500', 'cuatro mil', '5000', '4000'],\n",
        "    'Cargo': ['Analista', 'Gerente', 'Desarrollador', 'Gerente', 'Analista', None],\n",
        "    'FechaIngreso': ['2021-01-15', '2020/03/12', '2022-07-01', '2021/12/01', None, '2020-03-12']}\n",
        "df1=pd.DataFrame(data1)\n",
        "print(df1)"
      ],
      "metadata": {
        "colab": {
          "base_uri": "https://localhost:8080/"
        },
        "id": "lrQYYbsw3MFK",
        "outputId": "9f5161df-7e86-4183-a2b7-fa246bd28684"
      },
      "execution_count": 3,
      "outputs": [
        {
          "output_type": "stream",
          "name": "stdout",
          "text": [
            "  Nombre  Edad     Salario          Cargo FechaIngreso\n",
            "0   Juan  28.0        3000       Analista   2021-01-15\n",
            "1    Ana   NaN        4000        Gerente   2020/03/12\n",
            "2  Pedro  40.0        4500  Desarrollador   2022-07-01\n",
            "3  María  45.0  cuatro mil        Gerente   2021/12/01\n",
            "4   Luis  38.0        5000       Analista         None\n",
            "5  Carla  34.0        4000           None   2020-03-12\n"
          ]
        }
      ]
    },
    {
      "cell_type": "code",
      "source": [
        "# 1. Identificar y contar valores faltantes\n",
        "print(\"Valores faltantes:\")\n",
        "print(df1.isnull().sum())\n",
        "# 2. Verificar formato de 'Salario'\n",
        "print(\"\\nFormato incorrecto en 'Salario':\")\n",
        "print(df1[~df1['Salario'].str.replace('[^0-9]', '').str.isdigit()])\n",
        "# 3. Validar y estandarizar 'FechaIngreso'\n",
        "df1['FechaIngreso'] = pd.to_datetime(df1['FechaIngreso'], errors='coerce', format='%Y-%m-%d')\n",
        "print(\"\\nDatos después de la validación y estandarización de 'FechaIngreso':\")\n",
        "print(df1)\n",
        "#4. Verificar que no haya valores faltantes en la columna \"Cargo\"\n",
        "print(\"\\nValores faltantes en 'Cargo':\")\n",
        "print(df1[df1['Cargo'].isnull()])\n",
        "#luego de validacion\n",
        "print(\"\\nDatos después de la validación:\")\n",
        "print(df1)"
      ],
      "metadata": {
        "colab": {
          "base_uri": "https://localhost:8080/"
        },
        "id": "y7MTlgb831VJ",
        "outputId": "9e87c6cd-17aa-4804-8901-7781784b3c6a"
      },
      "execution_count": 9,
      "outputs": [
        {
          "output_type": "stream",
          "name": "stdout",
          "text": [
            "Valores faltantes:\n",
            "Nombre           0\n",
            "Edad             1\n",
            "Salario          0\n",
            "Cargo            1\n",
            "FechaIngreso     3\n",
            "Salariolimpio    1\n",
            "dtype: int64\n",
            "\n",
            "Formato incorrecto en 'Salario':\n",
            "  Nombre  Edad     Salario    Cargo FechaIngreso  Salariolimpio\n",
            "3  María  45.0  cuatro mil  Gerente          NaT            NaN\n",
            "\n",
            "Datos después de la validación y estandarización de 'FechaIngreso':\n",
            "  Nombre  Edad     Salario          Cargo FechaIngreso  Salariolimpio\n",
            "0   Juan  28.0        3000       Analista   2021-01-15         3000.0\n",
            "1    Ana   NaN        4000        Gerente          NaT         4000.0\n",
            "2  Pedro  40.0        4500  Desarrollador   2022-07-01         4500.0\n",
            "3  María  45.0  cuatro mil        Gerente          NaT            NaN\n",
            "4   Luis  38.0        5000       Analista          NaT         5000.0\n",
            "5  Carla  34.0        4000           None   2020-03-12         4000.0\n",
            "\n",
            "Valores faltantes en 'Cargo':\n",
            "  Nombre  Edad Salario Cargo FechaIngreso  Salariolimpio\n",
            "5  Carla  34.0    4000  None   2020-03-12         4000.0\n",
            "\n",
            "Datos después de la validación:\n",
            "  Nombre  Edad     Salario          Cargo FechaIngreso  Salariolimpio\n",
            "0   Juan  28.0        3000       Analista   2021-01-15         3000.0\n",
            "1    Ana   NaN        4000        Gerente          NaT         4000.0\n",
            "2  Pedro  40.0        4500  Desarrollador   2022-07-01         4500.0\n",
            "3  María  45.0  cuatro mil        Gerente          NaT            NaN\n",
            "4   Luis  38.0        5000       Analista          NaT         5000.0\n",
            "5  Carla  34.0        4000           None   2020-03-12         4000.0\n"
          ]
        }
      ]
    },
    {
      "cell_type": "code",
      "source": [
        "#corregir salario\n",
        "df1['Salariolimpio']=df1['Salario'].str.replace('[^0-9]', '', regex=True)\n",
        "df1['Salariolimpio'] = pd.to_numeric(df1['Salariolimpio'], errors='coerce')\n",
        "print(df1)"
      ],
      "metadata": {
        "colab": {
          "base_uri": "https://localhost:8080/"
        },
        "id": "84H091eX4Jn-",
        "outputId": "89138907-c7f9-44eb-b1a8-577ec6ed9d62"
      },
      "execution_count": 8,
      "outputs": [
        {
          "output_type": "stream",
          "name": "stdout",
          "text": [
            "  Nombre  Edad     Salario          Cargo FechaIngreso  Salariolimpio\n",
            "0   Juan  28.0        3000       Analista   2021-01-15         3000.0\n",
            "1    Ana   NaN        4000        Gerente          NaT         4000.0\n",
            "2  Pedro  40.0        4500  Desarrollador   2022-07-01         4500.0\n",
            "3  María  45.0  cuatro mil        Gerente          NaT            NaN\n",
            "4   Luis  38.0        5000       Analista          NaT         5000.0\n",
            "5  Carla  34.0        4000           None   2020-03-12         4000.0\n"
          ]
        }
      ]
    },
    {
      "cell_type": "markdown",
      "source": [
        "PARTE 2\n",
        "1.\tSe requiere validar los datos: Precios de Productos, se tiene una lista de productos con los respectivos precios y se necesita validar que ningún precio sea negativo o nulo.\n",
        "\n",
        "-\tSe requiere:\n",
        "1.\tCrear un DataFrame con productos y precios.\n",
        "2.\tProducto: Producto A, Producto B,Producto C,Producto D.\n",
        "3.\tPrecio:150, -25, 100, None.\n",
        "4.\tValidar que todos los precios sean mayores o iguales a cero y no nulos.\n",
        "5.\tMostrar los productos con precios inválidos.\n",
        "-\tResultado esperado: Una tabla que muestra qué productos tienen precios incorrectos.\n"
      ],
      "metadata": {
        "id": "Zd7bGu-fBOat"
      }
    },
    {
      "cell_type": "code",
      "source": [
        "import pandas as pd\n",
        "data={\n",
        "    'Producto':['Producto A', 'Producto B','Producto C','Producto D'],\n",
        "    'Precio':[150, -25, 100, None]\n",
        "}\n",
        "df2=pd.DataFrame(data)\n",
        "print(df2)"
      ],
      "metadata": {
        "colab": {
          "base_uri": "https://localhost:8080/"
        },
        "id": "wcEkkU6rBijF",
        "outputId": "60820b67-8740-46c3-f83f-f87428c45c63"
      },
      "execution_count": 35,
      "outputs": [
        {
          "output_type": "stream",
          "name": "stdout",
          "text": [
            "     Producto  Precio\n",
            "0  Producto A   150.0\n",
            "1  Producto B   -25.0\n",
            "2  Producto C   100.0\n",
            "3  Producto D     NaN\n"
          ]
        }
      ]
    },
    {
      "cell_type": "code",
      "source": [
        "df2['Validación Precio'] = df2['Precio'].apply(lambda x: 'Válido' if\n",
        "pd.notnull(x) and x >= 0 else 'Inválido')\n",
        "print(df2)"
      ],
      "metadata": {
        "colab": {
          "base_uri": "https://localhost:8080/"
        },
        "id": "RDqlUUdDCBf8",
        "outputId": "1f0f38ad-6df2-4ab2-b51e-df328a717fb6"
      },
      "execution_count": 36,
      "outputs": [
        {
          "output_type": "stream",
          "name": "stdout",
          "text": [
            "     Producto  Precio Validación Precio\n",
            "0  Producto A   150.0            Válido\n",
            "1  Producto B   -25.0          Inválido\n",
            "2  Producto C   100.0            Válido\n",
            "3  Producto D     NaN          Inválido\n"
          ]
        }
      ]
    },
    {
      "cell_type": "markdown",
      "source": [
        "2. Se requiere validar los datos duplicados: Clientes en una Base de Datos, se tiene una lista de clientes donde algunos registros tienen el mismo ID y necesitas identificarlos.\n",
        "-\tSe requiere:\n",
        "1.\tCrear un DataFrame con información de clientes.\n",
        "2.\tID Cliente:1, 2, 3, 2, 4.\n",
        "3.\tNombre: Ana, Luis, María, Luis, Carlos\n",
        "4.\tVerificar si hay duplicados en la columna de ID del cliente.\n",
        "5.\tMostrar los registros duplicados.\n"
      ],
      "metadata": {
        "id": "3t3TzcM6Cq3e"
      }
    },
    {
      "cell_type": "code",
      "source": [
        "data={\n",
        "    'ID Cliente':[1,2,3,2,4],\n",
        "    'Nombre':['Ana', 'Luis', 'María', 'Luis', 'Carlos']}\n",
        "df3=pd.DataFrame(data)\n",
        "duplicados = df3[df3.duplicated('ID Cliente')]\n",
        "print(duplicados)"
      ],
      "metadata": {
        "colab": {
          "base_uri": "https://localhost:8080/"
        },
        "id": "mIwtqXqmCr4a",
        "outputId": "e7fba0cb-2661-466a-a649-aca3bd6fc753"
      },
      "execution_count": 41,
      "outputs": [
        {
          "output_type": "stream",
          "name": "stdout",
          "text": [
            "   ID Cliente Nombre\n",
            "3           2   Luis\n"
          ]
        }
      ]
    },
    {
      "cell_type": "markdown",
      "source": [
        "3.\tSe requiere tener seguridad en los datos: Encriptación y Desencriptación de Datos Sensibles, se tiene un número de tarjeta de crédito que deseas encriptar para protegerlo y luego desencriptarlo para el uso.\n",
        "-\tSe requiere:\n",
        "1.\tCrear una cadena con datos sensibles (un número de tarjeta 1234-5678-9101- 1121).\n",
        "2.\tEncriptar esos datos utilizando una clave generada.\n",
        "3.\tDesencriptar los datos y mostrar ambos (encriptado y desencriptado)."
      ],
      "metadata": {
        "id": "d6q5s67UI3aZ"
      }
    },
    {
      "cell_type": "code",
      "source": [
        "from cryptography.fernet import Fernet\n",
        "key = Fernet.generate_key()\n",
        "cipher_suite = Fernet(key)\n",
        "datos_sensibles = \"1234-5678-9101-1121\".encode()\n",
        "datos_encriptados = cipher_suite.encrypt(datos_sensibles)\n",
        "print(\"Datos Encriptados:\", datos_encriptados)"
      ],
      "metadata": {
        "colab": {
          "base_uri": "https://localhost:8080/"
        },
        "id": "763wxzn8I46z",
        "outputId": "89a93b5a-29a1-4440-f0c8-d07fd25dcce3"
      },
      "execution_count": 58,
      "outputs": [
        {
          "output_type": "stream",
          "name": "stdout",
          "text": [
            "Datos Encriptados: b'gAAAAABoJWvKPDLHJUII3yHiOR-TTppQ7vMhn1tmvYSKuh8BHX7OkINrY7-Jo_6e04Xk3latNUEpilh9y7s-5HCHu5VjymY1FIor7cXzDhBJrOEXSqan3QU='\n"
          ]
        }
      ]
    },
    {
      "cell_type": "code",
      "source": [
        "datos_desencriptados = cipher_suite.decrypt(datos_encriptados)\n",
        "print(\"Datos Desencriptados:\",datos_desencriptados.decode())"
      ],
      "metadata": {
        "colab": {
          "base_uri": "https://localhost:8080/"
        },
        "id": "wFaX1_uKJqIK",
        "outputId": "6121a818-63d1-47e1-d07d-8a0f5dfcab21"
      },
      "execution_count": 59,
      "outputs": [
        {
          "output_type": "stream",
          "name": "stdout",
          "text": [
            "Datos Desencriptados: 1234-5678-9101-1121\n"
          ]
        }
      ]
    }
  ]
}